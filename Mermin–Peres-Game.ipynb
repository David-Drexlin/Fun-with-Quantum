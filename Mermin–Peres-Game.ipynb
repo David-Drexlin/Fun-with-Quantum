{
 "cells": [
  {
   "cell_type": "markdown",
   "metadata": {},
   "source": [
    "# Mermin Peres Magic Square Game"
   ]
  },
  {
   "source": [
    "The Mermin Peres Magic Square Game is a Game that is not solvable with a probability of 100% on classical computers. It operates in the following manner: Two players, Alice and Bob, play a cooperative game, yet unable to communicat by playing in a respectivly randomly assigned column / row either +1 or -1. The game is won if the number of +1 played in the selcted column is even and the -1 played in the rows is odd, further and crucially, the intersecting cell between column and row must be the same. As illustrated in the image below there is no classical solution to win the game with probability of 100%, however, the game can be won with a probability of 88,89%"
   ],
   "cell_type": "markdown",
   "metadata": {}
  },
  {
   "source": [
    "<img src=\"Mirmin-Peres-Game/MPG.png\" width=\"400\">\n"
   ],
   "cell_type": "markdown",
   "metadata": {}
  },
  {
   "source": [
    "However, in order to solve this game with a probility of 100%, one might look in the direction of quantum mechanics, quantum computing and quantum pseudo-telepathy where superposition and entanglement have already solved problems unfeasible on classical systems. Then, to realise this feat the Python Qiskit framework was employed, [extended from this Medium atricle] (https://medium.com/qiskit/this-proof-demonstrates-a-quantum-advantage-even-for-noisy-quantum-computers-b44a738801ad). Subsequently, this notebook will introduce the quantum circuit solving the MPG game,  provide a step-by-step walkthrough of the mathematical operation applied during an exemplary game and quantify it's performance on both simulated and real quantum computers.\n",
    "\n",
    "\n",
    "First, for the subsequent circuit definition, evaluation and illustration, we first have to define auxiliary functions and import the corresponding modules from Qiskit and Numpy"
   ],
   "cell_type": "markdown",
   "metadata": {}
  },
  {
   "cell_type": "code",
   "execution_count": 2,
   "metadata": {},
   "outputs": [],
   "source": [
    "from qiskit import *\n",
    "import numpy as np\n",
    "from qiskit.test.mock import *\n",
    "from qiskit.visualization import plot_state_qsphere\n"
   ]
  },
  {
   "cell_type": "code",
   "execution_count": 3,
   "metadata": {},
   "outputs": [],
   "source": [
    "#checks if the circuit output fulfills the winning criteria\n",
    "def check_result(results, col, row):\n",
    "    \n",
    "    print_tut = True\n",
    "    expected_states = []\n",
    "    \n",
    "    for i in results: \n",
    "        \n",
    "        #if print_tut:\n",
    "        #    explain(i, col, row)\n",
    "        #    print_tut = False\n",
    "\n",
    "        #print(\"Quantum circuit solution\")\n",
    "        #print(i+\"\\n\")\n",
    "    \n",
    "        i_orginal = i\n",
    "        i = np.array(list(i.replace(\" \", \"\")), dtype=np.int32)[::-1]\n",
    "        \n",
    "        # bring array in correct i.e. from incoming y2,y1,x2,x1 -> x1,x2,y1,y2\n",
    "        a = i[0:2]\n",
    "        a_sum = np.sum(a)\n",
    "        a3 = int(np.mod(a_sum+1,2))\n",
    "        a = np.append(a,a3)\n",
    "        winning_alice = np.mod(a_sum + a3, 2) == 1\n",
    "        # compute x3 by x1+x2+1 mod 2 and save to array\n",
    "\n",
    "        b = i[2:]\n",
    "        b_sum = np.sum(b)\n",
    "        b3 = int(np.mod(b_sum,2))\n",
    "        b = np.append(b,b3)\n",
    "        winning_bob = np.mod(b_sum + b3, 2) == 0   \n",
    "        # compute y3 by y1+y2 mod 2 and save to array\n",
    "\n",
    "        # compute overall winning condition -> alice at index of bob's row and vice versa\n",
    "        #print(\"Alice's selection. Column:\"+str(col)+\"\\n\"+str(a.reshape(3,1))+\"\\n\")\n",
    "        #print(\"Bob's circuit solution. Row:\"+str(row)+\"\\n\"+str(b)+\"\\n\")\n",
    "        \n",
    "        if(winning_bob & winning_alice & (a[row-1]==b[col-1])):\n",
    "            #print(\"Victory!\")    \n",
    "            #print(\"The following magic square wins the game!\")\n",
    "\n",
    "            expected_states.append(str(i_orginal))\n",
    "            k = np.empty((3,3,))\n",
    "            k[:] = np.nan\n",
    "            k[:,col-1] = a\n",
    "            k[row-1,:] = b\n",
    "            #print(k)\n",
    "\n",
    "        #print(\"------------------------------------------\")  \n",
    "        #print(\"\\n\")\n",
    "    return expected_states"
   ]
  },
  {
   "cell_type": "code",
   "execution_count": 4,
   "metadata": {},
   "outputs": [],
   "source": [
    "# function explaining the computation of x3, y3 and presenting the corresponding winning moves\n",
    "def explain(result, col, row):\n",
    "    print(\"Resultant quantum circuit solution:\"+\"\\n\")\n",
    "    print(result+\"\\n\")\n",
    "    example = np.array(list(result.split())).astype(int)[::-1]\n",
    "    print(\"Bring array in correct bit order i.e. from incoming y2,y1,x2,x1 -> x1,x2,y1,y2\"+\"\\n\")\n",
    "    print(str(example)+\"\\n\")\n",
    "    print(\"Compute missing x3 with x1+x2+1 mod 2 for Alice and save to array for further processing\")\n",
    "    print(\"Compute missing y3 with y1+y2 mod 2 for Bob and save to array for further processing\"+\"\\n\")\n",
    "   \n",
    "    a = example[0:2]\n",
    "    a_sum = np.sum(a)\n",
    "    a3 = int(np.mod(a_sum+1,2))\n",
    "    a = np.append(a,a3)\n",
    "    winning_alice = np.mod(a_sum + a3, 2) == 1\n",
    "\n",
    "    b = example[2:]\n",
    "    b_sum = np.sum(b)\n",
    "    b3 = int(np.mod(b_sum,2))\n",
    "    b = np.append(b,b3)\n",
    "    winning_bob = np.mod(b_sum + b3, 2) == 0   \n",
    "\n",
    "    print(\"Alice's column solution\"+\"\\n\"+str(a.reshape(3,1))+\"\\n\" + \"Winning conditions fullfilled (Odd quantitude of 1)?: \"+str(winning_alice)+\"\\n\")\n",
    "    print(\"Bob's row solution\"+\"\\n\"+str(b)+\"\\n\"+ \"Winning conditions fullfilled (Even quantitude of 1)?: \"+str(winning_bob)+\"\\n\")\n",
    "    print(\"Create matrix to show results\"+\"\\n\")\n",
    "    k = np.empty((3,3,))\n",
    "    k[:] = np.nan\n",
    "    k[:,col-1] = a\n",
    "    k[row-1,:] = b\n",
    "    print(k)\n",
    "    print(\"------------------------------------------\")  \n",
    "    print(\"------------------------------------------\")  "
   ]
  },
  {
   "cell_type": "code",
   "execution_count": 5,
   "metadata": {},
   "outputs": [],
   "source": [
    "# function to calculate state accuracy\n",
    "def get_state_accuracy(counts, expected_states, shots): \n",
    "    expected_counts = 0\n",
    "    for state in counts.keys():\n",
    "        if state in expected_states:\n",
    "            expected_counts = expected_counts + counts[state]\n",
    "    state_accuracy = expected_counts / shots\n",
    "    return str(state_accuracy*100)+\"%\""
   ]
  },
  {
   "cell_type": "code",
   "execution_count": 6,
   "metadata": {},
   "outputs": [],
   "source": [
    "# function that sets up the initial entanglement between Alice and Bob\n",
    "def share_bell_state(qc,a,b,c,d): \n",
    "    qc.h(a)\n",
    "    qc.h(b)\n",
    "    qc.cx(a,c)\n",
    "    qc.cx(b,d)\n",
    "    \n",
    "# The following functions represent the U(gamma) and V(gamma) controlled Cliffords.\n",
    "def U(qc,gamma,a,b):\n",
    "    if gamma==1:\n",
    "        qc.h(a)\n",
    "        qc.i(b)\n",
    "\n",
    "    elif gamma==2:\n",
    "        qc.swap(a,b)\n",
    "        qc.h(a)\n",
    "        qc.i(b)\n",
    "\n",
    "    elif gamma==3:\n",
    "        qc.cx(a,b)\n",
    "        qc.h(a)\n",
    "        qc.i(b)\n",
    "\n",
    "def V(qc,gamma,a,b):\n",
    "    if gamma==1:\n",
    "        qc.h(a)\n",
    "        qc.h(b)\n",
    "\n",
    "    if gamma==2:\n",
    "        qc.swap(a,b)\n",
    "\n",
    "    elif gamma==3:\n",
    "        qc.z(a)\n",
    "        qc.z(b)\n",
    "        qc.cz(a,b)\n",
    "        qc.h(a)\n",
    "        qc.h(b)"
   ]
  },
  {
   "cell_type": "code",
   "execution_count": 7,
   "metadata": {},
   "outputs": [
    {
     "output_type": "stream",
     "name": "stdout",
     "text": [
      "Alice and Bob, select a column or row value of 1, 2, or 3\n",
      "Alice choice (column):\n",
      "Bob choice (row):\n",
      "      ┌───┐           ░      ┌───┐      ░ ┌─┐         \n",
      "q0_0: ┤ H ├──■────────░───■──┤ H ├──────░─┤M├─────────\n",
      "      ├───┤  │        ░ ┌─┴─┐├───┤      ░ └╥┘┌─┐      \n",
      "q0_1: ┤ H ├──┼────■───░─┤ X ├┤ I ├──────░──╫─┤M├──────\n",
      "      └───┘┌─┴─┐  │   ░ ├───┤└───┘┌───┐ ░  ║ └╥┘┌─┐   \n",
      "q1_0: ─────┤ X ├──┼───░─┤ Z ├──■──┤ H ├─░──╫──╫─┤M├───\n",
      "           └───┘┌─┴─┐ ░ ├───┤  │  ├───┤ ░  ║  ║ └╥┘┌─┐\n",
      "q1_1: ──────────┤ X ├─░─┤ Z ├──■──┤ H ├─░──╫──╫──╫─┤M├\n",
      "                └───┘ ░ └───┘     └───┘ ░  ║  ║  ║ └╥┘\n",
      "c0: 1/═════════════════════════════════════╩══╬══╬══╬═\n",
      "                                           0  ║  ║  ║ \n",
      "                                              ║  ║  ║ \n",
      "c1: 1/════════════════════════════════════════╩══╬══╬═\n",
      "                                              0  ║  ║ \n",
      "                                                 ║  ║ \n",
      "c2: 1/═══════════════════════════════════════════╩══╬═\n",
      "                                                 0  ║ \n",
      "                                                    ║ \n",
      "c3: 1/══════════════════════════════════════════════╩═\n",
      "                                                    0 \n",
      "100.0%\n"
     ]
    }
   ],
   "source": [
    "#We will ask the user to select the row and column on Alice and Bob's behalf.\n",
    "print(\"Alice and Bob, select a column or row value of 1, 2, or 3\") \n",
    "print(\"Alice choice (column):\")\n",
    "alpha = int(input())\n",
    "print(\"Bob choice (row):\")\n",
    "beta = int(input())\n",
    "\n",
    "#Create the quantum register and the classical register to store our final bit values\n",
    "aliceQR = QuantumRegister(2)\n",
    "x1CR = ClassicalRegister(1)\n",
    "x2CR = ClassicalRegister(1)\n",
    "bobQR = QuantumRegister(2)\n",
    "y1CR = ClassicalRegister(1)\n",
    "y2CR = ClassicalRegister(1)\n",
    "\n",
    "#Create the circuit\n",
    "magicsquare_circuit = QuantumCircuit(aliceQR,bobQR,x1CR,x2CR,y1CR,y2CR)\n",
    "\n",
    "#Generate the Bell state on the circuit\n",
    "share_bell_state(magicsquare_circuit,0,1,2,3)\n",
    "\n",
    "magicsquare_circuit.barrier()\n",
    "\n",
    "#Draw the rest of the circuit based on Alice and Bob's selection   \n",
    "if 4>alpha>0 and 4>beta>0:\n",
    "    U(magicsquare_circuit,alpha,0,1) \n",
    "    V(magicsquare_circuit,beta,2,3)\n",
    "    magicsquare_circuit.barrier()\n",
    "    magicsquare_circuit.measure(0,0)\n",
    "    magicsquare_circuit.measure(1,1)\n",
    "    magicsquare_circuit.measure(2,2)\n",
    "    magicsquare_circuit.measure(3,3)\n",
    "    \n",
    "    magicsquare_circuit.draw(output='mpl')\n",
    "    print(magicsquare_circuit)    \n",
    "\n",
    "    job = execute(magicsquare_circuit, BasicAer.get_backend('qasm_simulator'), optimization_level=3, shots=8192) # run the job simulation\n",
    "    results = job.result().get_counts()\n",
    "    expected_states = check_result(results, alpha, beta)\n",
    "    state_accuracy = get_state_accuracy(results,expected_states,8192)\n",
    "    print(state_accuracy)\n",
    "\n",
    "else:\n",
    "    print(\"please enter values of 1, 2, or 3\")"
   ]
  },
  {
   "source": [
    "#### Indeed, using an ideal quantum simulator, a winning probability of 100% is achieved, which exceeds the highest classical winning probability of 88.99% Beyond that, however, it is desirable to quantify the results on a real IBM quantum computer, which will be realized in the last section."
   ],
   "cell_type": "markdown",
   "metadata": {}
  },
  {
   "cell_type": "markdown",
   "metadata": {},
   "source": [
    "# Mathmatical background of the computation\n",
    "\n",
    "As we have demonstrated above, the quantum circuit solves the Mirmin-Peres game (MPG) on real quantum computers with a higher probability than with any classical strategy on ordinary computers. To shed some light on how and why this works, we present and explain the mathematical operations that lead to the solution of this game. In particular, we will first present a high-level equation describing the mathematical rationale and then we will take a look at each element of this equation explain it step by step.\n",
    "\n",
    "\n",
    "Recall that the quantum circuit has to play different moves for each different row/column instances of the MPG being selected, since there is no classical strategy that can win the game with probability = 1. Thus, to win with probability 1, the quantum circuit dynamically adapts to the input of each column and row played. Nevertheless, there is indeed one part of the circuit that remains static and is responsible for generating a matching qubit state and we will start of by focusing on that part. \n",
    "\n",
    "The following Pauli operators govern what the ideal mathmatical operations, with the winning criteria in mind, are in correspondace to the selected row and column. \n",
    "\n",
    "![title](Mirmin-Peres-Game/Pauli_Operators.png)\n",
    "\n",
    "\n",
    "These operators can then be translated into the following quantum gates for the respective row / column selected. To further understand why these Pauli operators are translated to the gates, see.: [Quantum advantage in noisy flat circuits](https://arxiv.org/pdf/1904.01502.pdf) \n",
    "\n",
    "![title](Mirmin-Peres-Game/Circuit_Operations.png)\n",
    "\n",
    "\n",
    "\n",
    "\n",
    "Abstractly, then, as evident from the gates and the circuit above, see (a) & (b), the elements can be described by the following high-level formula:\n",
    "\n",
    "$$ Quantum Solution MPG = Initial Vector * Dynamic Matrix(row, column)$$\n",
    "\n",
    "#### Starting with the first part of the equation, the intial vector, of the MPG circuit is defined by quantum gates as follows:\n"
   ]
  },
  {
   "cell_type": "code",
   "execution_count": 8,
   "metadata": {},
   "outputs": [
    {
     "output_type": "execute_result",
     "data": {
      "text/plain": [
       "<Figure size 293.74x325.08 with 1 Axes>"
      ],
      "image/svg+xml": "<?xml version=\"1.0\" encoding=\"utf-8\" standalone=\"no\"?>\n<!DOCTYPE svg PUBLIC \"-//W3C//DTD SVG 1.1//EN\"\n  \"http://www.w3.org/Graphics/SVG/1.1/DTD/svg11.dtd\">\n<!-- Created with matplotlib (https://matplotlib.org/) -->\n<svg height=\"259.8354pt\" version=\"1.1\" viewBox=\"0 0 236.173837 259.8354\" width=\"236.173837pt\" xmlns=\"http://www.w3.org/2000/svg\" xmlns:xlink=\"http://www.w3.org/1999/xlink\">\n <metadata>\n  <rdf:RDF xmlns:cc=\"http://creativecommons.org/ns#\" xmlns:dc=\"http://purl.org/dc/elements/1.1/\" xmlns:rdf=\"http://www.w3.org/1999/02/22-rdf-syntax-ns#\">\n   <cc:Work>\n    <dc:type rdf:resource=\"http://purl.org/dc/dcmitype/StillImage\"/>\n    <dc:date>2021-03-30T13:37:49.484335</dc:date>\n    <dc:format>image/svg+xml</dc:format>\n    <dc:creator>\n     <cc:Agent>\n      <dc:title>Matplotlib v3.3.2, https://matplotlib.org/</dc:title>\n     </cc:Agent>\n    </dc:creator>\n   </cc:Work>\n  </rdf:RDF>\n </metadata>\n <defs>\n  <style type=\"text/css\">*{stroke-linecap:butt;stroke-linejoin:round;}</style>\n </defs>\n <g id=\"figure_1\">\n  <g id=\"patch_1\">\n   <path d=\"M 0 259.8354 \nL 236.173837 259.8354 \nL 236.173837 0 \nL 0 0 \nz\n\" style=\"fill:#ffffff;\"/>\n  </g>\n  <g id=\"axes_1\">\n   <g id=\"line2d_1\">\n    <path clip-path=\"url(#p3224f93af9)\" d=\"M 83.530637 43.5608 \nL 224.428737 43.5608 \n\" style=\"fill:none;stroke:#000000;stroke-linecap:square;stroke-width:2;\"/>\n   </g>\n   <g id=\"line2d_2\">\n    <path clip-path=\"url(#p3224f93af9)\" d=\"M 83.530637 89.0118 \nL 224.428737 89.0118 \n\" style=\"fill:none;stroke:#000000;stroke-linecap:square;stroke-width:2;\"/>\n   </g>\n   <g id=\"line2d_3\">\n    <path clip-path=\"url(#p3224f93af9)\" d=\"M 83.530637 134.4628 \nL 224.428737 134.4628 \n\" style=\"fill:none;stroke:#000000;stroke-linecap:square;stroke-width:2;\"/>\n   </g>\n   <g id=\"line2d_4\">\n    <path clip-path=\"url(#p3224f93af9)\" d=\"M 83.530637 179.9138 \nL 224.428737 179.9138 \n\" style=\"fill:none;stroke:#000000;stroke-linecap:square;stroke-width:2;\"/>\n   </g>\n   <g id=\"line2d_5\">\n    <path clip-path=\"url(#p3224f93af9)\" d=\"M 83.530637 223.887643 \nL 224.428737 223.887643 \n\" style=\"fill:none;stroke:#778899;stroke-linecap:square;stroke-width:2;\"/>\n   </g>\n   <g id=\"line2d_6\">\n    <path clip-path=\"url(#p3224f93af9)\" d=\"M 83.530637 226.841958 \nL 224.428737 226.841958 \n\" style=\"fill:none;stroke:#778899;stroke-linecap:square;stroke-width:2;\"/>\n   </g>\n   <g id=\"line2d_7\">\n    <path clip-path=\"url(#p3224f93af9)\" d=\"M 153.525177 134.4628 \nL 153.525177 43.5608 \n\" style=\"fill:none;stroke:#6fa4ff;stroke-linecap:square;stroke-width:2;\"/>\n   </g>\n   <g id=\"line2d_8\">\n    <path clip-path=\"url(#p3224f93af9)\" d=\"M 198.976177 179.9138 \nL 198.976177 89.0118 \n\" style=\"fill:none;stroke:#6fa4ff;stroke-linecap:square;stroke-width:2;\"/>\n   </g>\n   <g id=\"line2d_9\">\n    <path clip-path=\"url(#p3224f93af9)\" d=\"M 92.620837 229.9099 \nL 97.165937 220.8197 \n\" style=\"fill:none;stroke:#778899;stroke-linecap:square;stroke-width:1.5;\"/>\n   </g>\n   <g id=\"patch_2\">\n    <path clip-path=\"url(#p3224f93af9)\" d=\"M 93.302602 58.332375 \nL 122.845752 58.332375 \nL 122.845752 28.789225 \nL 93.302602 28.789225 \nz\n\" style=\"fill:#6fa4ff;stroke:#6fa4ff;stroke-linejoin:miter;stroke-width:1.5;\"/>\n   </g>\n   <g id=\"patch_3\">\n    <path clip-path=\"url(#p3224f93af9)\" d=\"M 93.302602 103.783375 \nL 122.845752 103.783375 \nL 122.845752 74.240225 \nL 93.302602 74.240225 \nz\n\" style=\"fill:#6fa4ff;stroke:#6fa4ff;stroke-linejoin:miter;stroke-width:1.5;\"/>\n   </g>\n   <g id=\"patch_4\">\n    <path clip-path=\"url(#p3224f93af9)\" d=\"M 153.525177 47.992272 \nC 154.700417 47.992272 155.827681 47.525345 156.658701 46.694324 \nC 157.489721 45.863304 157.956649 44.73604 157.956649 43.5608 \nC 157.956649 42.38556 157.489721 41.258296 156.658701 40.427276 \nC 155.827681 39.596255 154.700417 39.129328 153.525177 39.129328 \nC 152.349936 39.129328 151.222673 39.596255 150.391652 40.427276 \nC 149.560632 41.258296 149.093704 42.38556 149.093704 43.5608 \nC 149.093704 44.73604 149.560632 45.863304 150.391652 46.694324 \nC 151.222673 47.525345 152.349936 47.992272 153.525177 47.992272 \nz\n\" style=\"fill:#6fa4ff;stroke:#6fa4ff;stroke-linejoin:miter;stroke-width:1.5;\"/>\n   </g>\n   <g id=\"patch_5\">\n    <path clip-path=\"url(#p3224f93af9)\" d=\"M 153.525177 144.802903 \nC 156.267404 144.802903 158.897686 143.713404 160.836733 141.774357 \nC 162.775781 139.835309 163.865279 137.205027 163.865279 134.4628 \nC 163.865279 131.720573 162.775781 129.090291 160.836733 127.151243 \nC 158.897686 125.212196 156.267404 124.122698 153.525177 124.122698 \nC 150.782949 124.122698 148.152668 125.212196 146.21362 127.151243 \nC 144.274573 129.090291 143.185074 131.720573 143.185074 134.4628 \nC 143.185074 137.205027 144.274573 139.835309 146.21362 141.774357 \nC 148.152668 143.713404 150.782949 144.802903 153.525177 144.802903 \nz\n\" style=\"fill:#6fa4ff;stroke:#6fa4ff;stroke-linejoin:miter;stroke-width:2;\"/>\n   </g>\n   <g id=\"patch_6\">\n    <path clip-path=\"url(#p3224f93af9)\" d=\"M 198.976177 93.443272 \nC 200.151417 93.443272 201.278681 92.976345 202.109701 92.145324 \nC 202.940721 91.314304 203.407649 90.18704 203.407649 89.0118 \nC 203.407649 87.83656 202.940721 86.709296 202.109701 85.878276 \nC 201.278681 85.047255 200.151417 84.580327 198.976177 84.580327 \nC 197.800936 84.580327 196.673673 85.047255 195.842652 85.878276 \nC 195.011632 86.709296 194.544704 87.83656 194.544704 89.0118 \nC 194.544704 90.18704 195.011632 91.314304 195.842652 92.145324 \nC 196.673673 92.976345 197.800936 93.443272 198.976177 93.443272 \nz\n\" style=\"fill:#6fa4ff;stroke:#6fa4ff;stroke-linejoin:miter;stroke-width:1.5;\"/>\n   </g>\n   <g id=\"patch_7\">\n    <path clip-path=\"url(#p3224f93af9)\" d=\"M 198.976177 190.253903 \nC 201.718404 190.253903 204.348686 189.164404 206.287733 187.225357 \nC 208.226781 185.286309 209.316279 182.656027 209.316279 179.9138 \nC 209.316279 177.171573 208.226781 174.541291 206.287733 172.602243 \nC 204.348686 170.663196 201.718404 169.573698 198.976177 169.573698 \nC 196.233949 169.573698 193.603668 170.663196 191.66462 172.602243 \nC 189.725573 174.541291 188.636074 177.171573 188.636074 179.9138 \nC 188.636074 182.656027 189.725573 185.286309 191.66462 187.225357 \nC 193.603668 189.164404 196.233949 190.253903 198.976177 190.253903 \nz\n\" style=\"fill:#6fa4ff;stroke:#6fa4ff;stroke-linejoin:miter;stroke-width:2;\"/>\n   </g>\n   <g id=\"line2d_10\">\n    <path clip-path=\"url(#p3224f93af9)\" d=\"M 153.525177 140.37143 \nL 153.525177 128.55417 \n\" style=\"fill:none;stroke:#ffffff;stroke-linecap:square;stroke-width:2;\"/>\n   </g>\n   <g id=\"line2d_11\">\n    <path clip-path=\"url(#p3224f93af9)\" d=\"M 147.616547 134.4628 \nL 159.433807 134.4628 \n\" style=\"fill:none;stroke:#ffffff;stroke-linecap:square;stroke-width:2;\"/>\n   </g>\n   <g id=\"line2d_12\">\n    <path clip-path=\"url(#p3224f93af9)\" d=\"M 198.976177 185.82243 \nL 198.976177 174.00517 \n\" style=\"fill:none;stroke:#ffffff;stroke-linecap:square;stroke-width:2;\"/>\n   </g>\n   <g id=\"line2d_13\">\n    <path clip-path=\"url(#p3224f93af9)\" d=\"M 193.067547 179.9138 \nL 204.884807 179.9138 \n\" style=\"fill:none;stroke:#ffffff;stroke-linecap:square;stroke-width:2;\"/>\n   </g>\n   <g id=\"text_1\">\n    <g clip-path=\"url(#p3224f93af9)\">\n     <!-- H -->\n     <g transform=\"translate(103.185974 47.147987)scale(0.13 -0.13)\">\n      <defs>\n       <path d=\"M 9.8125 72.90625 \nL 19.671875 72.90625 \nL 19.671875 43.015625 \nL 55.515625 43.015625 \nL 55.515625 72.90625 \nL 65.375 72.90625 \nL 65.375 0 \nL 55.515625 0 \nL 55.515625 34.71875 \nL 19.671875 34.71875 \nL 19.671875 0 \nL 9.8125 0 \nz\n\" id=\"DejaVuSans-72\"/>\n      </defs>\n      <use xlink:href=\"#DejaVuSans-72\"/>\n     </g>\n    </g>\n   </g>\n   <g id=\"text_2\">\n    <g clip-path=\"url(#p3224f93af9)\">\n     <!-- H -->\n     <g transform=\"translate(103.185974 92.598987)scale(0.13 -0.13)\">\n      <use xlink:href=\"#DejaVuSans-72\"/>\n     </g>\n    </g>\n   </g>\n   <g id=\"text_3\">\n    <g clip-path=\"url(#p3224f93af9)\">\n     <!-- ${q39}_{0}$ -->\n     <g transform=\"translate(35.602937 48.011777)scale(0.1625 -0.1625)\">\n      <defs>\n       <path d=\"M 41.703125 8.203125 \nQ 38.09375 3.46875 33.171875 1.015625 \nQ 28.265625 -1.421875 22.3125 -1.421875 \nQ 14.015625 -1.421875 9.296875 4.171875 \nQ 4.59375 9.765625 4.59375 19.578125 \nQ 4.59375 27.484375 7.5 34.859375 \nQ 10.40625 42.234375 15.828125 48.09375 \nQ 19.34375 51.90625 23.90625 53.953125 \nQ 28.46875 56 33.5 56 \nQ 39.546875 56 43.453125 53.609375 \nQ 47.359375 51.21875 49.125 46.390625 \nL 50.6875 54.59375 \nL 59.71875 54.59375 \nL 45.125 -20.609375 \nL 36.078125 -20.609375 \nz\nM 13.921875 20.90625 \nQ 13.921875 13.671875 16.9375 9.890625 \nQ 19.96875 6.109375 25.6875 6.109375 \nQ 34.1875 6.109375 40.1875 14.234375 \nQ 46.1875 22.359375 46.1875 33.984375 \nQ 46.1875 41.015625 43.078125 44.75 \nQ 39.984375 48.484375 34.1875 48.484375 \nQ 29.9375 48.484375 26.3125 46.5 \nQ 22.703125 44.53125 20.015625 40.71875 \nQ 17.1875 36.71875 15.546875 31.34375 \nQ 13.921875 25.984375 13.921875 20.90625 \nz\n\" id=\"DejaVuSans-Oblique-113\"/>\n       <path d=\"M 40.578125 39.3125 \nQ 47.65625 37.796875 51.625 33 \nQ 55.609375 28.21875 55.609375 21.1875 \nQ 55.609375 10.40625 48.1875 4.484375 \nQ 40.765625 -1.421875 27.09375 -1.421875 \nQ 22.515625 -1.421875 17.65625 -0.515625 \nQ 12.796875 0.390625 7.625 2.203125 \nL 7.625 11.71875 \nQ 11.71875 9.328125 16.59375 8.109375 \nQ 21.484375 6.890625 26.8125 6.890625 \nQ 36.078125 6.890625 40.9375 10.546875 \nQ 45.796875 14.203125 45.796875 21.1875 \nQ 45.796875 27.640625 41.28125 31.265625 \nQ 36.765625 34.90625 28.71875 34.90625 \nL 20.21875 34.90625 \nL 20.21875 43.015625 \nL 29.109375 43.015625 \nQ 36.375 43.015625 40.234375 45.921875 \nQ 44.09375 48.828125 44.09375 54.296875 \nQ 44.09375 59.90625 40.109375 62.90625 \nQ 36.140625 65.921875 28.71875 65.921875 \nQ 24.65625 65.921875 20.015625 65.03125 \nQ 15.375 64.15625 9.8125 62.3125 \nL 9.8125 71.09375 \nQ 15.4375 72.65625 20.34375 73.4375 \nQ 25.25 74.21875 29.59375 74.21875 \nQ 40.828125 74.21875 47.359375 69.109375 \nQ 53.90625 64.015625 53.90625 55.328125 \nQ 53.90625 49.265625 50.4375 45.09375 \nQ 46.96875 40.921875 40.578125 39.3125 \nz\n\" id=\"DejaVuSans-51\"/>\n       <path d=\"M 10.984375 1.515625 \nL 10.984375 10.5 \nQ 14.703125 8.734375 18.5 7.8125 \nQ 22.3125 6.890625 25.984375 6.890625 \nQ 35.75 6.890625 40.890625 13.453125 \nQ 46.046875 20.015625 46.78125 33.40625 \nQ 43.953125 29.203125 39.59375 26.953125 \nQ 35.25 24.703125 29.984375 24.703125 \nQ 19.046875 24.703125 12.671875 31.3125 \nQ 6.296875 37.9375 6.296875 49.421875 \nQ 6.296875 60.640625 12.9375 67.421875 \nQ 19.578125 74.21875 30.609375 74.21875 \nQ 43.265625 74.21875 49.921875 64.515625 \nQ 56.59375 54.828125 56.59375 36.375 \nQ 56.59375 19.140625 48.40625 8.859375 \nQ 40.234375 -1.421875 26.421875 -1.421875 \nQ 22.703125 -1.421875 18.890625 -0.6875 \nQ 15.09375 0.046875 10.984375 1.515625 \nz\nM 30.609375 32.421875 \nQ 37.25 32.421875 41.125 36.953125 \nQ 45.015625 41.5 45.015625 49.421875 \nQ 45.015625 57.28125 41.125 61.84375 \nQ 37.25 66.40625 30.609375 66.40625 \nQ 23.96875 66.40625 20.09375 61.84375 \nQ 16.21875 57.28125 16.21875 49.421875 \nQ 16.21875 41.5 20.09375 36.953125 \nQ 23.96875 32.421875 30.609375 32.421875 \nz\n\" id=\"DejaVuSans-57\"/>\n       <path d=\"M 31.78125 66.40625 \nQ 24.171875 66.40625 20.328125 58.90625 \nQ 16.5 51.421875 16.5 36.375 \nQ 16.5 21.390625 20.328125 13.890625 \nQ 24.171875 6.390625 31.78125 6.390625 \nQ 39.453125 6.390625 43.28125 13.890625 \nQ 47.125 21.390625 47.125 36.375 \nQ 47.125 51.421875 43.28125 58.90625 \nQ 39.453125 66.40625 31.78125 66.40625 \nz\nM 31.78125 74.21875 \nQ 44.046875 74.21875 50.515625 64.515625 \nQ 56.984375 54.828125 56.984375 36.375 \nQ 56.984375 17.96875 50.515625 8.265625 \nQ 44.046875 -1.421875 31.78125 -1.421875 \nQ 19.53125 -1.421875 13.0625 8.265625 \nQ 6.59375 17.96875 6.59375 36.375 \nQ 6.59375 54.828125 13.0625 64.515625 \nQ 19.53125 74.21875 31.78125 74.21875 \nz\n\" id=\"DejaVuSans-48\"/>\n      </defs>\n      <use transform=\"translate(0 0.78125)\" xlink:href=\"#DejaVuSans-Oblique-113\"/>\n      <use transform=\"translate(63.476562 0.78125)\" xlink:href=\"#DejaVuSans-51\"/>\n      <use transform=\"translate(127.099609 0.78125)\" xlink:href=\"#DejaVuSans-57\"/>\n      <use transform=\"translate(191.679688 -15.625)scale(0.7)\" xlink:href=\"#DejaVuSans-48\"/>\n     </g>\n    </g>\n   </g>\n   <g id=\"text_4\">\n    <g clip-path=\"url(#p3224f93af9)\">\n     <!-- ${q39}_{1}$ -->\n     <g transform=\"translate(35.602937 93.462777)scale(0.1625 -0.1625)\">\n      <defs>\n       <path d=\"M 12.40625 8.296875 \nL 28.515625 8.296875 \nL 28.515625 63.921875 \nL 10.984375 60.40625 \nL 10.984375 69.390625 \nL 28.421875 72.90625 \nL 38.28125 72.90625 \nL 38.28125 8.296875 \nL 54.390625 8.296875 \nL 54.390625 0 \nL 12.40625 0 \nz\n\" id=\"DejaVuSans-49\"/>\n      </defs>\n      <use transform=\"translate(0 0.78125)\" xlink:href=\"#DejaVuSans-Oblique-113\"/>\n      <use transform=\"translate(63.476562 0.78125)\" xlink:href=\"#DejaVuSans-51\"/>\n      <use transform=\"translate(127.099609 0.78125)\" xlink:href=\"#DejaVuSans-57\"/>\n      <use transform=\"translate(191.679688 -15.625)scale(0.7)\" xlink:href=\"#DejaVuSans-49\"/>\n     </g>\n    </g>\n   </g>\n   <g id=\"text_5\">\n    <g clip-path=\"url(#p3224f93af9)\">\n     <!-- ${q39}_{2}$ -->\n     <g transform=\"translate(35.602937 138.913777)scale(0.1625 -0.1625)\">\n      <defs>\n       <path d=\"M 19.1875 8.296875 \nL 53.609375 8.296875 \nL 53.609375 0 \nL 7.328125 0 \nL 7.328125 8.296875 \nQ 12.9375 14.109375 22.625 23.890625 \nQ 32.328125 33.6875 34.8125 36.53125 \nQ 39.546875 41.84375 41.421875 45.53125 \nQ 43.3125 49.21875 43.3125 52.78125 \nQ 43.3125 58.59375 39.234375 62.25 \nQ 35.15625 65.921875 28.609375 65.921875 \nQ 23.96875 65.921875 18.8125 64.3125 \nQ 13.671875 62.703125 7.8125 59.421875 \nL 7.8125 69.390625 \nQ 13.765625 71.78125 18.9375 73 \nQ 24.125 74.21875 28.421875 74.21875 \nQ 39.75 74.21875 46.484375 68.546875 \nQ 53.21875 62.890625 53.21875 53.421875 \nQ 53.21875 48.921875 51.53125 44.890625 \nQ 49.859375 40.875 45.40625 35.40625 \nQ 44.1875 33.984375 37.640625 27.21875 \nQ 31.109375 20.453125 19.1875 8.296875 \nz\n\" id=\"DejaVuSans-50\"/>\n      </defs>\n      <use transform=\"translate(0 0.78125)\" xlink:href=\"#DejaVuSans-Oblique-113\"/>\n      <use transform=\"translate(63.476562 0.78125)\" xlink:href=\"#DejaVuSans-51\"/>\n      <use transform=\"translate(127.099609 0.78125)\" xlink:href=\"#DejaVuSans-57\"/>\n      <use transform=\"translate(191.679688 -15.625)scale(0.7)\" xlink:href=\"#DejaVuSans-50\"/>\n     </g>\n    </g>\n   </g>\n   <g id=\"text_6\">\n    <g clip-path=\"url(#p3224f93af9)\">\n     <!-- ${q39}_{3}$ -->\n     <g transform=\"translate(35.602937 184.364777)scale(0.1625 -0.1625)\">\n      <use transform=\"translate(0 0.78125)\" xlink:href=\"#DejaVuSans-Oblique-113\"/>\n      <use transform=\"translate(63.476562 0.78125)\" xlink:href=\"#DejaVuSans-51\"/>\n      <use transform=\"translate(127.099609 0.78125)\" xlink:href=\"#DejaVuSans-57\"/>\n      <use transform=\"translate(191.679688 -15.625)scale(0.7)\" xlink:href=\"#DejaVuSans-51\"/>\n     </g>\n    </g>\n   </g>\n   <g id=\"text_7\">\n    <g clip-path=\"url(#p3224f93af9)\">\n     <!-- 4 -->\n     <g transform=\"translate(88.075737 218.656825)scale(0.104 -0.104)\">\n      <defs>\n       <path d=\"M 37.796875 64.3125 \nL 12.890625 25.390625 \nL 37.796875 25.390625 \nz\nM 35.203125 72.90625 \nL 47.609375 72.90625 \nL 47.609375 25.390625 \nL 58.015625 25.390625 \nL 58.015625 17.1875 \nL 47.609375 17.1875 \nL 47.609375 0 \nL 37.796875 0 \nL 37.796875 17.1875 \nL 4.890625 17.1875 \nL 4.890625 26.703125 \nz\n\" id=\"DejaVuSans-52\"/>\n      </defs>\n      <use xlink:href=\"#DejaVuSans-52\"/>\n     </g>\n    </g>\n   </g>\n   <g id=\"text_8\">\n    <g clip-path=\"url(#p3224f93af9)\">\n     <!-- c4 -->\n     <g transform=\"translate(55.166413 229.848784)scale(0.1625 -0.1625)\">\n      <defs>\n       <path d=\"M 48.78125 52.59375 \nL 48.78125 44.1875 \nQ 44.96875 46.296875 41.140625 47.34375 \nQ 37.3125 48.390625 33.40625 48.390625 \nQ 24.65625 48.390625 19.8125 42.84375 \nQ 14.984375 37.3125 14.984375 27.296875 \nQ 14.984375 17.28125 19.8125 11.734375 \nQ 24.65625 6.203125 33.40625 6.203125 \nQ 37.3125 6.203125 41.140625 7.25 \nQ 44.96875 8.296875 48.78125 10.40625 \nL 48.78125 2.09375 \nQ 45.015625 0.34375 40.984375 -0.53125 \nQ 36.96875 -1.421875 32.421875 -1.421875 \nQ 20.0625 -1.421875 12.78125 6.34375 \nQ 5.515625 14.109375 5.515625 27.296875 \nQ 5.515625 40.671875 12.859375 48.328125 \nQ 20.21875 56 33.015625 56 \nQ 37.15625 56 41.109375 55.140625 \nQ 45.0625 54.296875 48.78125 52.59375 \nz\n\" id=\"DejaVuSans-99\"/>\n      </defs>\n      <use xlink:href=\"#DejaVuSans-99\"/>\n      <use x=\"54.980469\" xlink:href=\"#DejaVuSans-52\"/>\n     </g>\n    </g>\n   </g>\n  </g>\n </g>\n <defs>\n  <clipPath id=\"p3224f93af9\">\n   <rect height=\"245.4354\" width=\"221.773837\" x=\"7.2\" y=\"7.2\"/>\n  </clipPath>\n </defs>\n</svg>\n",
      "image/png": "[encoded data removed]"
     },
     "metadata": {},
     "execution_count": 8
    }
   ],
   "source": [
    "q = QuantumRegister(4) \n",
    "c = ClassicalRegister(4) \n",
    "qc = QuantumCircuit(q, c) \n",
    "qc.h(q[0])\n",
    "qc.h(q[1])\n",
    "qc.cx(q[0],q[2])\n",
    "qc.cx(q[1],q[3])\n",
    "#qc.barrier()\n",
    "qc.draw(output='mpl')\n"
   ]
  },
  {
   "cell_type": "markdown",
   "metadata": {},
   "source": [
    "#### The very starting vector state of the MPG circuit, prior to any quantum gate interaction, corresponds to the Dirac bracket |0000> and is hence described by the following vector: \n",
    "$$ InitialQubits= \\frac 1 {\\sqrt{2}} {\\begin{pmatrix} 1 \\\\0 \\\\0 \\\\0 \\\\0 \\\\0 \\\\0 \\\\0 \\\\0 \\\\0 \\\\0 \\\\0 \\\\0 \\\\0 \\\\0 \\\\ 0\\end{pmatrix}}$$"
   ]
  },
  {
   "source": [
    "#### In terms of the gates, these are the mathmatical represetations of the relevant gates illustrated above:\n",
    "\n",
    "$$\n",
    "I = \\begin{pmatrix} 1 & 0 \\\\ 0 & 1 \\end{pmatrix}  \n",
    "$$\n",
    "\n",
    "$$\n",
    "H = \\frac 1 {\\sqrt{2}} \\begin{pmatrix} 1 & 1 \\\\ 1 & -1 \\end{pmatrix}\n",
    "$$\n",
    "\n",
    "$$\n",
    "CNOT_{(i, i+2)} = \\begin{pmatrix} 1 & 0 & 0 & 0 & 0 & 0 & 0 & 0 \\\\ \n",
    "0 & 0 & 0 & 0 & 0 & 1 & 0 & 0 \\\\ \n",
    "0 & 0 & 1 & 0 & 0 & 0 & 0 & 0 \\\\ \n",
    "0 & 0 & 0 & 0 & 0 & 0 & 0 & 1 \\\\ \n",
    "0 & 0 & 0 & 0 & 1 & 0 & 0 & 0 \\\\ \n",
    "0 & 1 & 0 & 0 & 0 & 0 & 0 & 0 \\\\ \n",
    "0 & 0 & 0 & 0 & 0 & 0 & 1 & 0 \\\\ \n",
    "0 & 0 & 0 & 1 & 0 & 0 & 0 & 0 \\\\ \n",
    "\\end{pmatrix}\n",
    "$$"
   ],
   "cell_type": "markdown",
   "metadata": {}
  },
  {
   "cell_type": "markdown",
   "metadata": {},
   "source": [
    "#### While the static matrix, represented as the quantum gates in the illustration above, is created by the appliance of two CNOT gates to the first and third qubit and the second and fourth qubit, as well as two Hadamard gates applied to the first and second qubit. Mathematically, this is described by the following equation: \n",
    "\n",
    "$$ Initial Vector = (I ⨂ CNOT_{0|2}) ⨂ (CNOT_{1|3} ⨂ I) * (I ⨂ I ⨂ H ⨂ H) * InitialQubits $$\n",
    "\n",
    "Subsequently inserting the corresponding matrices into this equation results in the following matrix:"
   ]
  },
  {
   "cell_type": "markdown",
   "metadata": {},
   "source": [
    "$$\n",
    "Inital Vector = \\begin{pmatrix} 1 & 0 \\\\ 0 & 1 \\end{pmatrix} ⨂ \\begin{pmatrix} 1 & 0 & 0 & 0 & 0 & 0 & 0 & 0 \\\\ 0 & 0 & 0 & 0 & 0 & 1 & 0 & 0 \\\\ 0 & 0 & 1 & 0 & 0 & 0 & 0 & 0 \\\\ 0 & 0 & 0 & 0 & 0 & 0 & 0 & 1 \\\\ 0 & 0 & 0 & 0 & 1 & 0 & 0 & 0 \\\\ 0 & 1 & 0 & 0 & 0 & 0 & 0 & 0 \\\\ 0 & 0 & 0 & 0 & 0 & 0 & 1 & 0 \\\\ 0 & 0 & 0 & 1 & 0 & 0 & 0 & 0 \\end{pmatrix} ⨂ \\begin{pmatrix} 1 & 0 & 0 & 0 & 0 & 0 & 0 & 0 \\\\ 0 & 0 & 0 & 0 & 0 & 1 & 0 & 0 \\\\ 0 & 0 & 1 & 0 & 0 & 0 & 0 & 0 \\\\ 0 & 0 & 0 & 0 & 0 & 0 & 0 & 1 \\\\ 0 & 0 & 0 & 0 & 1 & 0 & 0 & 0 \\\\ 0 & 1 & 0 & 0 & 0 & 0 & 0 & 0 \\\\ 0 & 0 & 0 & 0 & 0 & 0 & 1 & 0 \\\\ 0 & 0 & 0 & 1 & 0 & 0 & 0 & 0 \\end{pmatrix} \\begin{pmatrix} 1 & 0 \\\\ 0 & 1 \\end{pmatrix} *\n",
    "\\begin{pmatrix} 1 & 0 \\\\ 0 & 1 \\end{pmatrix} ⨂ \\begin{pmatrix} 1 & 0 \\\\ 0 & 1 \\end{pmatrix} ⨂ \\frac 1 {\\sqrt{2}} \\begin{pmatrix} 1 & 1 \\\\ 1 & -1 \\end{pmatrix} ⨂ \\frac 1 {\\sqrt{2}} \\begin{pmatrix} 1 & 1 \\\\ 1 & -1 \\end{pmatrix} \n",
    "*\n",
    "\\frac 1 {\\sqrt{2}} {\\begin{pmatrix} 1 \\\\0 \\\\0 \\\\0 \\\\0 \\\\0 \\\\0 \\\\0 \\\\0 \\\\0 \\\\0 \\\\0 \\\\0 \\\\0 \\\\0 \\\\ 0\\end{pmatrix}}\n",
    "$$\n",
    "\n",
    "$$ \n",
    "Inital Vector = \\begin{bmatrix}\\ 1 & 0 & 0 & 0 & 0 & 0 & 0 & 0 & 0 & 0 & 0 & 0 & 0 & 0 & 0 & 0  \\\\\\ 0 & 1 & 0 & 0 & 0 & 0 & 0 & 0 & 0 & 0 & 0 & 0 & 0 & 0 & 0 & 0  \\\\\\ 0 & 0 & 0 & 0 & 0 & 0 & 0 & 0 & 0 & 0 & 1 & 0 & 0 & 0 & 0 & 0  \\\\\\ 0 & 0 & 0 & 0 & 0 & 0 & 0 & 0 & 0 & 0 & 0 & 1 & 0 & 0 & 0 & 0  \\\\\\ 0 & 0 & 0 & 0 & 1 & 0 & 0 & 0 & 0 & 0 & 0 & 0 & 0 & 0 & 0 & 0  \\\\\\ 0 & 0 & 0 & 0 & 0 & 1 & 0 & 0 & 0 & 0 & 0 & 0 & 0 & 0 & 0 & 0  \\\\\\ 0 & 0 & 0 & 0 & 0 & 0 & 0 & 0 & 0 & 0 & 0 & 0 & 0 & 0 & 1 & 0  \\\\\\ 0 & 0 & 0 & 0 & 0 & 0 & 0 & 0 & 0 & 0 & 0 & 0 & 0 & 0 & 0 & 1  \\\\\\ 0 & 0 & 0 & 0 & 0 & 0 & 0 & 0 & 1 & 0 & 0 & 0 & 0 & 0 & 0 & 0  \\\\\\ 0 & 0 & 0 & 0 & 0 & 0 & 0 & 0 & 0 & 1 & 0 & 0 & 0 & 0 & 0 & 0  \\\\\\ 0 & 0 & 1 & 0 & 0 & 0 & 0 & 0 & 0 & 0 & 0 & 0 & 0 & 0 & 0 & 0  \\\\\\ 0 & 0 & 0 & 1 & 0 & 0 & 0 & 0 & 0 & 0 & 0 & 0 & 0 & 0 & 0 & 0  \\\\\\ 0 & 0 & 0 & 0 & 0 & 0 & 0 & 0 & 0 & 0 & 0 & 0 & 1 & 0 & 0 & 0  \\\\\\ 0 & 0 & 0 & 0 & 0 & 0 & 0 & 0 & 0 & 0 & 0 & 0 & 0 & 1 & 0 & 0  \\\\\\ 0 & 0 & 0 & 0 & 0 & 0 & 1 & 0 & 0 & 0 & 0 & 0 & 0 & 0 & 0 & 0  \\\\\\ 0 & 0 & 0 & 0 & 0 & 0 & 0 & 1 & 0 & 0 & 0 & 0 & 0 & 0 & 0 & 0  \\\\\\end{bmatrix}\\ ⨂ \\begin {bmatrix}\\ 1 & 0 & 0 & 0 & 0 & 0 & 0 & 0 & 0 & 0 & 0 & 0 & 0 & 0 & 0 & 0  \\\\\\ 0 & 0 & 0 & 0 & 0 & 1 & 0 & 0 & 0 & 0 & 0 & 0 & 0 & 0 & 0 & 0  \\\\\\ 0 & 0 & 1 & 0 & 0 & 0 & 0 & 0 & 0 & 0 & 0 & 0 & 0 & 0 & 0 & 0  \\\\\\ 0 & 0 & 0 & 0 & 0 & 0 & 0 & 1 & 0 & 0 & 0 & 0 & 0 & 0 & 0 & 0  \\\\\\ 0 & 0 & 0 & 0 & 1 & 0 & 0 & 0 & 0 & 0 & 0 & 0 & 0 & 0 & 0 & 0  \\\\\\ 0 & 1 & 0 & 0 & 0 & 0 & 0 & 0 & 0 & 0 & 0 & 0 & 0 & 0 & 0 & 0  \\\\\\ 0 & 0 & 0 & 0 & 0 & 0 & 1 & 0 & 0 & 0 & 0 & 0 & 0 & 0 & 0 & 0  \\\\\\ 0 & 0 & 0 & 1 & 0 & 0 & 0 & 0 & 0 & 0 & 0 & 0 & 0 & 0 & 0 & 0  \\\\\\ 0 & 0 & 0 & 0 & 0 & 0 & 0 & 0 & 1 & 0 & 0 & 0 & 0 & 0 & 0 & 0  \\\\\\ 0 & 0 & 0 & 0 & 0 & 0 & 0 & 0 & 0 & 0 & 0 & 0 & 0 & 1 & 0 & 0  \\\\\\ 0 & 0 & 0 & 0 & 0 & 0 & 0 & 0 & 0 & 0 & 1 & 0 & 0 & 0 & 0 & 0  \\\\\\ 0 & 0 & 0 & 0 & 0 & 0 & 0 & 0 & 0 & 0 & 0 & 0 & 0 & 0 & 0 & 1  \\\\\\ 0 & 0 & 0 & 0 & 0 & 0 & 0 & 0 & 0 & 0 & 0 & 0 & 1 & 0 & 0 & 0  \\\\\\ 0 & 0 & 0 & 0 & 0 & 0 & 0 & 0 & 0 & 1 & 0 & 0 & 0 & 0 & 0 & 0  \\\\\\ 0 & 0 & 0 & 0 & 0 & 0 & 0 & 0 & 0 & 0 & 0 & 0 & 0 & 0 & 1 & 0  \\\\\\ 0 & 0 & 0 & 0 & 0 & 0 & 0 & 0 & 0 & 0 & 0 & 1 & 0 & 0 & 0 & 0  \\\\\\end{bmatrix}\\\n",
    "*\n",
    "\\begin{pmatrix} 1 & 0 & 0 & 0\\\\ 0 & 1 & 0 & 0 \\\\ 0 & 0 & 1 & 0\\\\ 0 & 0 & 0 & 1 \\end{pmatrix} \n",
    "\n",
    "⨂ \n",
    "\n",
    "\\frac 1 {2} \\begin{pmatrix} 1 & 1 & 1 & 1\\\\ 1 & -1 & 1 & -1 \\\\ 1 & 1 & -1 & -1\\\\ 1 & -1 & -1 & 1 \\end{pmatrix}\n",
    "*\n",
    "\\frac 1 {\\sqrt{2}} {\\begin{pmatrix} 1 \\\\0 \\\\0 \\\\0 \\\\0 \\\\0 \\\\0 \\\\0 \\\\0 \\\\0 \\\\0 \\\\0 \\\\0 \\\\0 \\\\0 \\\\ 0\\end{pmatrix}}\n",
    "$$"
   ]
  },
  {
   "cell_type": "markdown",
   "metadata": {},
   "source": [
    "$$ \n",
    "InitialVector = \\begin{bmatrix}\\ 1 & 0 & 0 & 0 & 0 & 0 & 0 & 0 & 0 & 0 & 0 & 0 & 0 & 0 & 0 & 0  \\\\\\ 0 & 0 & 0 & 0 & 0 & 1 & 0 & 0 & 0 & 0 & 0 & 0 & 0 & 0 & 0 & 0  \\\\\\ 0 & 0 & 0 & 0 & 0 & 0 & 0 & 0 & 0 & 0 & 1 & 0 & 0 & 0 & 0 & 0  \\\\\\ 0 & 0 & 0 & 0 & 0 & 0 & 0 & 0 & 0 & 0 & 0 & 0 & 0 & 0 & 0 & 1  \\\\\\ 0 & 0 & 0 & 0 & 1 & 0 & 0 & 0 & 0 & 0 & 0 & 0 & 0 & 0 & 0 & 0  \\\\\\ 0 & 1 & 0 & 0 & 0 & 0 & 0 & 0 & 0 & 0 & 0 & 0 & 0 & 0 & 0 & 0  \\\\\\ 0 & 0 & 0 & 0 & 0 & 0 & 0 & 0 & 0 & 0 & 0 & 0 & 0 & 0 & 1 & 0  \\\\\\ 0 & 0 & 0 & 0 & 0 & 0 & 0 & 0 & 0 & 0 & 0 & 1 & 0 & 0 & 0 & 0  \\\\\\ 0 & 0 & 0 & 0 & 0 & 0 & 0 & 0 & 1 & 0 & 0 & 0 & 0 & 0 & 0 & 0  \\\\\\ 0 & 0 & 0 & 0 & 0 & 0 & 0 & 0 & 0 & 0 & 0 & 0 & 0 & 1 & 0 & 0  \\\\\\ 0 & 0 & 1 & 0 & 0 & 0 & 0 & 0 & 0 & 0 & 0 & 0 & 0 & 0 & 0 & 0  \\\\\\ 0 & 0 & 0 & 0 & 0 & 0 & 0 & 1 & 0 & 0 & 0 & 0 & 0 & 0 & 0 & 0  \\\\\\ 0 & 0 & 0 & 0 & 0 & 0 & 0 & 0 & 0 & 0 & 0 & 0 & 1 & 0 & 0 & 0  \\\\\\ 0 & 0 & 0 & 0 & 0 & 0 & 0 & 0 & 0 & 1 & 0 & 0 & 0 & 0 & 0 & 0  \\\\\\ 0 & 0 & 0 & 0 & 0 & 0 & 1 & 0 & 0 & 0 & 0 & 0 & 0 & 0 & 0 & 0  \\\\\\ 0 & 0 & 0 & 1 & 0 & 0 & 0 & 0 & 0 & 0 & 0 & 0 & 0 & 0 & 0 & 0  \\\\\\end{bmatrix}\\\n",
    "*\n",
    "\\begin{bmatrix}\\ \\frac 1 {2} & \\frac 1 {2} & \\frac 1 {2} & \\frac 1 {2} & 0 & 0 & 0 & 0 & 0 & 0 & 0 & 0 & 0 & 0 & 0 & 0  \\\\\\ \\frac 1 {2} & -\\frac 1 {2} & \\frac 1 {2} & -\\frac 1 {2} & 0 & 0 & 0 & 0 & 0 & 0 & 0 & 0 & 0 & 0 & 0 & 0  \\\\\\ \\frac 1 {2} & \\frac 1 {2} & -\\frac 1 {2} & -\\frac 1 {2} & 0 & 0 & 0 & 0 & 0 & 0 & 0 & 0 & 0 & 0 & 0 & 0  \\\\\\ \\frac 1 {2} & -\\frac 1 {2} & -\\frac 1 {2} & \\frac 1 {2} & 0 & 0 & 0 & 0 & 0 & 0 & 0 & 0 & 0 & 0 & 0 & 0  \\\\\\ 0 & 0 & 0 & 0 & \\frac 1 {2} & \\frac 1 {2} & \\frac 1 {2} & \\frac 1 {2} & 0 & 0 & 0 & 0 & 0 & 0 & 0 & 0  \\\\\\ 0 & 0 & 0 & 0 & \\frac 1 {2} & -\\frac 1 {2} & \\frac 1 {2} & -\\frac 1 {2}& 0 & 0 & 0 & 0 & 0 & 0 & 0 & 0  \\\\\\ 0 & 0 & 0 & 0 & \\frac 1 {2} & \\frac 1 {2} & -\\frac 1 {2} & -\\frac 1 {2} & 0 & 0 & 0 & 0 & 0 & 0 & 0 & 0  \\\\\\ 0 & 0 & 0 & 0 & \\frac 1 {2} & -\\frac 1 {2} & -\\frac 1 {2} & \\frac 1 {2} & 0 & 0 & 0 & 0 & 0 & 0 & 0 & 0  \\\\\\ 0 & 0 & 0 & 0 & 0 & 0 & 0 & 0 & \\frac 1 {2} & \\frac 1 {2} & \\frac 1 {2} & \\frac 1 {2} & 0 & 0 & 0 & 0  \\\\\\ 0 & 0 & 0 & 0 & 0 & 0 & 0 & 0 & \\frac 1 {2} & -\\frac 1 {2} & \\frac 1 {2} & -\\frac 1 {2} & 0 & 0 & 0 & 0  \\\\\\ 0 & 0 & 0 & 0 & 0 & 0 & 0 & 0 & \\frac 1 {2} & \\frac 1 {2} & -\\frac 1 {2} & -\\frac 1 {2} & 0 & 0 & 0 & 0  \\\\\\ 0 & 0 & 0 & 0 & 0 & 0 & 0 & 0 & \\frac 1 {2} & -\\frac 1 {2} & -\\frac 1 {2} & \\frac 1 {2} & 0 & 0 & 0 & 0  \\\\\\ 0 & 0 & 0 & 0 & 0 & 0 & 0 & 0 & 0 & 0 & 0 & 0 & \\frac 1 {2} & \\frac 1 {2} & \\frac 1 {2} & \\frac 1 {2}  \\\\\\ 0 & 0 & 0 & 0 & 0 & 0 & 0 & 0 & 0 & 0 & 0 & 0 & \\frac 1 {2} & -\\frac 1 {2} & \\frac 1 {2} & -\\frac 1 {2}  \\\\\\ 0 & 0 & 0 & 0 & 0 & 0 & 0 & 0 & 0 & 0 & 0 & 0 & \\frac 1 {2} & \\frac 1 {2} & -\\frac 1 {2} & -\\frac 1 {2}  \\\\\\ 0 & 0 & 0 & 0 & 0 & 0 & 0 & 0 & 0 & 0 & 0 & 0 & \\frac 1 {2} & -\\frac 1 {2} & -\\frac 1 {2} & \\frac 1 {2} \\\\\\end{bmatrix}\\\n",
    "*\n",
    "\\frac 1 {\\sqrt{2}} {\\begin{pmatrix} 1 \\\\0 \\\\0 \\\\0 \\\\0 \\\\0 \\\\0 \\\\0 \\\\0 \\\\0 \\\\0 \\\\0 \\\\0 \\\\0 \\\\0 \\\\ 0\\end{pmatrix}}\n",
    "$$\n",
    "\n",
    "$$\n",
    "=\\begin{bmatrix}\\ \\frac 1 {2} & \\frac 1 {2} & \\frac 1 {2} & \\frac 1 {2} & 0 & 0 & 0 & 0 & 0 & 0 & 0 & 0 & 0 & 0 & 0 & 0  \\\\\\ 0 & 0 & 0 & 0 & \\frac 1 {2} & -\\frac 1 {2} & \\frac 1 {2} & -\\frac 1 {2} & 0 & 0 & 0 & 0 & 0 & 0 & 0 & 0  \\\\\\ 0 & 0 & 0 & 0 & 0 & 0 & 0 & 0 & \\frac 1 {2} & \\frac 1 {2} & -\\frac 1 {2} & -\\frac 1 {2} & 0 & 0 & 0 & 0  \\\\\\ 0 & 0 & 0 & 0 & 0 & 0 & 0 & 0 & 0 & 0 & 0 & 0 & \\frac 1 {2} & -\\frac 1 {2} & -\\frac 1 {2} & \\frac 1 {2} \\\\\\ 0 & 0 & 0 & 0 & \\frac 1 {2} & \\frac 1 {2} & \\frac 1 {2} & \\frac 1 {2} & 0 & 0 & 0 & 0 & 0 & 0 & 0 & 0  \\\\\\ \\frac 1 {2} & -\\frac 1 {2} & \\frac 1 {2} & -\\frac 1 {2} & 0 & 0 & 0 & 0 & 0 & 0 & 0 & 0 & 0 & 0 & 0 & 0  \\\\\\ 0 & 0 & 0 & 0 & 0 & 0 & 0 & 0 & 0 & 0 & 0 & 0 &  \\frac 1 {2} & \\frac 1 {2} & -\\frac 1 {2} & -\\frac 1 {2}  \\\\\\ 0 & 0 & 0 & 0 & 0 & 0 & 0 & 0 & \\frac 1 {2} & -\\frac 1 {2} & -\\frac 1 {2} & \\frac 1 {2}& 0 & 0 & 0 & 0  \\\\\\ 0 & 0 & 0 & 0 & 0 & 0 & 0 & 0 & \\frac 1 {2} & \\frac 1 {2} & \\frac 1 {2} & \\frac 1 {2} & 0 & 0 & 0 & 0  \\\\\\ 0 & 0 & 0 & 0 & 0 & 0 & 0 & 0 & 0 & 0 & 0 & 0 & \\frac 1 {2} & -\\frac 1 {2} & \\frac 1 {2} & -\\frac 1 {2}  \\\\\\ \\frac 1 {2} & \\frac 1 {2} & -\\frac 1 {2} & -\\frac 1 {2} & 0 & 0 & 0 & 0 & 0 & 0 & 0 & 0 & 0 & 0 & 0 & 0  \\\\\\ 0 & 0 & 0 & 0 & \\frac 1 {2} & -\\frac 1 {2} & -\\frac 1 {2} & \\frac 1 {2} & 0 & 0 & 0 & 0 & 0 & 0 & 0 & 0 \\\\\\ 0 & 0 & 0 & 0 & 0 & 0 & 0 & 0 & 0 & 0 & 0 & 0 & \\frac 1 {2} & \\frac 1 {2} & \\frac 1 {2} & \\frac 1 {2}  \\\\\\ 0 & 0 & 0 & 0 & 0 & 0 & 0 & 0 & \\frac 1 {2} & -\\frac 1 {2} & \\frac 1 {2} & -\\frac 1 {2} & 0 & 0 & 0 & 0  \\\\\\ 0 & 0 & 0 & 0 & \\frac 1 {2} & \\frac 1 {2} & -\\frac 1 {2} & -\\frac 1 {2} & 0 & 0 & 0 & 0 & 0 & 0 & 0 & 0  \\\\\\ \\frac 1 {2} & -\\frac 1 {2} & -\\frac 1 {2} & \\frac 1 {2} & 0 & 0 & 0 & 0 & 0 & 0 & 0 & 0 & 0 & 0 & 0 & 0  \\\\\\end{bmatrix}\\\n",
    "*\n",
    "\\frac 1 {\\sqrt{2}} {\\begin{pmatrix} 1 \\\\0 \\\\0 \\\\0 \\\\0 \\\\0 \\\\0 \\\\0 \\\\0 \\\\0 \\\\0 \\\\0 \\\\0 \\\\0 \\\\0 \\\\ 0\\end{pmatrix}}\n",
    "$$\n",
    "$$\n",
    "= \\begin{pmatrix} \\frac 1 {2} \\\\0 \\\\0 \\\\0 \\\\0 \\\\\\frac 1 {2} \\\\0 \\\\0 \\\\0 \\\\0 \\\\\\frac 1 {2} \\\\0 \\\\0 \\\\0 \\\\ 0\\\\ \\frac 1 {2}\\end{pmatrix}\n",
    "$$"
   ]
  },
  {
   "cell_type": "markdown",
   "metadata": {},
   "source": [
    "#### This vector holds the relevant qubits that can be further considered and modified in the dynmaic part of the circuit so that valid winning can be created, these Qubit states are:\n",
    "$$= \\frac 1 {2} (|0000\\rangle+|0101\\rangle+|1010\\rangle+|1111\\rangle)$$\n"
   ]
  },
  {
   "cell_type": "markdown",
   "metadata": {},
   "source": [
    "#### Furthermore, when analyzing the initial vector, it becomes apparent that when multiplying any matrix by it, only four relevenate cells per row in the multiplier remain open for consideration, since the others are all multiplied by 0 and thereby likewise drop of with 0% probability as a result. Thus, we can eliminate the majority of the entries whatsoever. As an example we have prepared the matrix below, and denoted all entries with an i, that have to be computed and all others that result in any case with 0 with -.\n",
    "\n",
    "$$ = \n",
    "\\begin{bmatrix}\\ \\color{red}{i} & - & - & - & - & \\color{red}{i} & - & - & - & - & \\color{red}{i} & - & - & - & - & \\color{red}{i}  \\\\\\ \\color{red}{i} & - & - & - & - & \\color{red}{i} & - & - & - & - & \\color{red}{i} & - & - & - & - & \\color{red}{i}  \\\\\\ \\color{red}{i} & - & - & - & - & \\color{red}{i} & - & - & - & - & \\color{red}{i} & - & - & - & - & \\color{red}{i}  \\\\\\ \\color{red}{i} & - & - & - & - & \\color{red}{i} & - & - & - & - & \\color{red}{i} & - & - & - & - & \\color{red}{i}  \\\\\\ \\color{red}{i} & - & - & - & - & \\color{red}{i} & - & - & - & - & \\color{red}{i} & - & - & - & - & \\color{red}{i}  \\\\\\ \\color{red}{i} & - & - & - & - & \\color{red}{i} & - & - & - & - & \\color{red}{i} & - & - & - & - & \\color{red}{i}  \\\\\\ \\color{red}{i} & - & - & - & - & \\color{red}{i} & - & - & - & - & \\color{red}{i} & - & - & - & - & \\color{red}{i}  \\\\\\ \\color{red}{i} & - & - & - & - & \\color{red}{i} & - & - & - & - & \\color{red}{i} & - & - & - & - & \\color{red}{i}  \\\\\\ \\color{red}{i} & - & - & - & - & \\color{red}{i} & - & - & - & - & \\color{red}{i} & - & - & - & - & \\color{red}{i}  \\\\\\ \\color{red}{i} & - & - & - & - & \\color{red}{i} & - & - & - & - & \\color{red}{i} & - & - & - & - & \\color{red}{i}  \\\\\\ \\color{red}{i} & - & - & - & - & \\color{red}{i} & - & - & - & - & \\color{red}{i} & - & - & - & - & \\color{red}{i}  \\\\\\ \\color{red}{i} & - & - & - & - & \\color{red}{i} & - & - & - & - & \\color{red}{i} & - & - & - & - & \\color{red}{i}  \\\\\\ \\color{red}{i} & - & - & - & - & \\color{red}{i} & - & - & - & - & \\color{red}{i} & - & - & - & - & \\color{red}{i}  \\\\\\ \\color{red}{i} & - & - & - & - & \\color{red}{i} & - & - & - & - & \\color{red}{i} & - & - & - & - & \\color{red}{i}  \\\\\\ \\color{red}{i} & - & - & - & - & \\color{red}{i} & - & - & - & - & \\color{red}{i} & - & - & - & - & \\color{red}{i}  \\\\\\ \\color{red}{i} & - & - & - & - & \\color{red}{i} & - & - & - & - & \\color{red}{i} & - & - & - & - & \\color{red}{i}  \\\\\\end{bmatrix} \n",
    "*\n",
    "\\begin{pmatrix} \\frac 1 {2} \\\\0 \\\\0 \\\\0 \\\\0 \\\\\\frac 1 {2} \\\\0 \\\\0 \\\\0 \\\\0 \\\\\\frac 1 {2} \\\\0 \\\\0 \\\\0 \\\\0 \\\\ \\frac 1 {2}\\end{pmatrix}\n",
    "$$\n",
    "\n",
    "Let us now take a look at an concrete example, which show and proof that only the i-rows are relevant for the subsequent computation:\n",
    "\n",
    "$$\n",
    "Winnning Plays= \n",
    "\\begin{bmatrix}\\ \\frac 1 {\\sqrt{8}} & \\frac 1 {\\sqrt{8}} & 0 & 0 & \\frac 1 {\\sqrt{8}} & \\frac 1 {\\sqrt{8}}& 0 & 0 & \\frac 1 {\\sqrt{8}} & \\frac 1 {\\sqrt{8}}& 0 & 0 & \\frac 1 {\\sqrt{8}} & \\frac 1 {\\sqrt{8}} & 0 & 0 \\end{bmatrix} * \n",
    "\\begin{pmatrix} \\frac 1 {2} \\\\0 \\\\0 \\\\0 \\\\0 \\\\\\frac 1 {2} \\\\0 \\\\0 \\\\0 \\\\0 \\\\\\frac 1 {2} \\\\0 \\\\0 \\\\0 \\\\0 \\\\ \\frac 1 {2}\\end{pmatrix}\n",
    "$$\n",
    "\n",
    "Multiplying each row element with each coloumn element yields the following results:\n",
    "\n",
    "$$\n",
    "= \\frac 1 {\\sqrt{8}}\n",
    "$$\n",
    "\n",
    "\n",
    "However, considering only the i-row entries yields precisely the same results:\n",
    "$$\n",
    "Winnning Plays= \n",
    "\\begin{bmatrix}\\ \\frac 1 {\\sqrt{8}} & - & - & - & - & \\frac 1 {\\sqrt{8}}& - & - & - & - & 0 & - & - & - & - & 0 \\end{bmatrix} * \n",
    "\\begin{pmatrix} \\frac 1 {2} \\\\0 \\\\0 \\\\0 \\\\0 \\\\\\frac 1 {2} \\\\0 \\\\0 \\\\0 \\\\0 \\\\\\frac 1 {2} \\\\0 \\\\0 \\\\0 \\\\0 \\\\ \\frac 1 {2}\\end{pmatrix}\n",
    "$$\n",
    "$$\n",
    "= \\frac 1 {\\sqrt{8}}\n",
    "$$\n",
    "#### And indeed, this idea is very powerful because it lets us visually see what outcomes may emerge as well asa better idea of which outcomes may fall off and which may be a win in the MPG. As long as postive result emerges the MPG is won, no matter the probability of that play occuring"
   ]
  },
  {
   "cell_type": "markdown",
   "metadata": {},
   "source": [
    "### Now, in order to consider the later, dynamic, part of the equation we will have to select an example. In this case we have selected row: 1 and column: 1. The corresponding quantum circuit is as follows:"
   ]
  },
  {
   "cell_type": "code",
   "execution_count": 9,
   "metadata": {},
   "outputs": [
    {
     "output_type": "execute_result",
     "data": {
      "text/plain": [
       "<Figure size 233.249x325.08 with 1 Axes>"
      ],
      "image/svg+xml": "<?xml version=\"1.0\" encoding=\"utf-8\" standalone=\"no\"?>\n<!DOCTYPE svg PUBLIC \"-//W3C//DTD SVG 1.1//EN\"\n  \"http://www.w3.org/Graphics/SVG/1.1/DTD/svg11.dtd\">\n<!-- Created with matplotlib (https://matplotlib.org/) -->\n<svg height=\"259.8354pt\" version=\"1.1\" viewBox=\"0 0 190.503308 259.8354\" width=\"190.503308pt\" xmlns=\"http://www.w3.org/2000/svg\" xmlns:xlink=\"http://www.w3.org/1999/xlink\">\n <metadata>\n  <rdf:RDF xmlns:cc=\"http://creativecommons.org/ns#\" xmlns:dc=\"http://purl.org/dc/elements/1.1/\" xmlns:rdf=\"http://www.w3.org/1999/02/22-rdf-syntax-ns#\">\n   <cc:Work>\n    <dc:type rdf:resource=\"http://purl.org/dc/dcmitype/StillImage\"/>\n    <dc:date>2021-03-30T13:37:55.272803</dc:date>\n    <dc:format>image/svg+xml</dc:format>\n    <dc:creator>\n     <cc:Agent>\n      <dc:title>Matplotlib v3.3.2, https://matplotlib.org/</dc:title>\n     </cc:Agent>\n    </dc:creator>\n   </cc:Work>\n  </rdf:RDF>\n </metadata>\n <defs>\n  <style type=\"text/css\">*{stroke-linecap:butt;stroke-linejoin:round;}</style>\n </defs>\n <g id=\"figure_1\">\n  <g id=\"patch_1\">\n   <path d=\"M 0 259.8354 \nL 190.503308 259.8354 \nL 190.503308 0 \nL 0 0 \nz\n\" style=\"fill:#ffffff;\"/>\n  </g>\n  <g id=\"axes_1\">\n   <g id=\"line2d_1\">\n    <path clip-path=\"url(#p20fe213746)\" d=\"M 83.311108 43.5608 \nL 178.758208 43.5608 \n\" style=\"fill:none;stroke:#000000;stroke-linecap:square;stroke-width:2;\"/>\n   </g>\n   <g id=\"line2d_2\">\n    <path clip-path=\"url(#p20fe213746)\" d=\"M 83.311108 89.0118 \nL 178.758208 89.0118 \n\" style=\"fill:none;stroke:#000000;stroke-linecap:square;stroke-width:2;\"/>\n   </g>\n   <g id=\"line2d_3\">\n    <path clip-path=\"url(#p20fe213746)\" d=\"M 83.311108 134.4628 \nL 178.758208 134.4628 \n\" style=\"fill:none;stroke:#000000;stroke-linecap:square;stroke-width:2;\"/>\n   </g>\n   <g id=\"line2d_4\">\n    <path clip-path=\"url(#p20fe213746)\" d=\"M 83.311108 179.9138 \nL 178.758208 179.9138 \n\" style=\"fill:none;stroke:#000000;stroke-linecap:square;stroke-width:2;\"/>\n   </g>\n   <g id=\"line2d_5\">\n    <path clip-path=\"url(#p20fe213746)\" d=\"M 83.311108 223.887642 \nL 178.758208 223.887642 \n\" style=\"fill:none;stroke:#778899;stroke-linecap:square;stroke-width:2;\"/>\n   </g>\n   <g id=\"line2d_6\">\n    <path clip-path=\"url(#p20fe213746)\" d=\"M 83.311108 226.841957 \nL 178.758208 226.841957 \n\" style=\"fill:none;stroke:#778899;stroke-linecap:square;stroke-width:2;\"/>\n   </g>\n   <g id=\"patch_2\">\n    <path clip-path=\"url(#p20fe213746)\" d=\"M 98.991703 66.2863 \nL 116.717593 66.2863 \nL 116.717593 20.8353 \nL 98.991703 20.8353 \nz\n\" style=\"fill:#bdbdbd;opacity:0.6;\"/>\n   </g>\n   <g id=\"patch_3\">\n    <path clip-path=\"url(#p20fe213746)\" d=\"M 98.991703 111.7373 \nL 116.717593 111.7373 \nL 116.717593 66.2863 \nL 98.991703 66.2863 \nz\n\" style=\"fill:#bdbdbd;opacity:0.6;\"/>\n   </g>\n   <g id=\"patch_4\">\n    <path clip-path=\"url(#p20fe213746)\" d=\"M 98.991703 157.1883 \nL 116.717593 157.1883 \nL 116.717593 111.7373 \nL 98.991703 111.7373 \nz\n\" style=\"fill:#bdbdbd;opacity:0.6;\"/>\n   </g>\n   <g id=\"patch_5\">\n    <path clip-path=\"url(#p20fe213746)\" d=\"M 98.991703 202.6393 \nL 116.717593 202.6393 \nL 116.717593 157.1883 \nL 98.991703 157.1883 \nz\n\" style=\"fill:#bdbdbd;opacity:0.6;\"/>\n   </g>\n   <g id=\"line2d_7\">\n    <path clip-path=\"url(#p20fe213746)\" d=\"M 92.401308 229.9099 \nL 96.946408 220.8197 \n\" style=\"fill:none;stroke:#778899;stroke-linecap:square;stroke-width:1.5;\"/>\n   </g>\n   <g id=\"patch_6\">\n    <path clip-path=\"url(#p20fe213746)\" d=\"M 138.534073 58.332375 \nL 168.077223 58.332375 \nL 168.077223 28.789225 \nL 138.534073 28.789225 \nz\n\" style=\"fill:#6fa4ff;stroke:#6fa4ff;stroke-linejoin:miter;stroke-width:1.5;\"/>\n   </g>\n   <g id=\"patch_7\">\n    <path clip-path=\"url(#p20fe213746)\" d=\"M 138.534073 103.783375 \nL 168.077223 103.783375 \nL 168.077223 74.240225 \nL 138.534073 74.240225 \nz\n\" style=\"fill:#05bab6;stroke:#05bab6;stroke-linejoin:miter;stroke-width:1.5;\"/>\n   </g>\n   <g id=\"patch_8\">\n    <path clip-path=\"url(#p20fe213746)\" d=\"M 138.534073 149.234375 \nL 168.077223 149.234375 \nL 168.077223 119.691225 \nL 138.534073 119.691225 \nz\n\" style=\"fill:#6fa4ff;stroke:#6fa4ff;stroke-linejoin:miter;stroke-width:1.5;\"/>\n   </g>\n   <g id=\"patch_9\">\n    <path clip-path=\"url(#p20fe213746)\" d=\"M 138.534073 194.685375 \nL 168.077223 194.685375 \nL 168.077223 165.142225 \nL 138.534073 165.142225 \nz\n\" style=\"fill:#6fa4ff;stroke:#6fa4ff;stroke-linejoin:miter;stroke-width:1.5;\"/>\n   </g>\n   <g id=\"line2d_8\">\n    <path clip-path=\"url(#p20fe213746)\" d=\"M 107.854648 20.8353 \nL 107.854648 66.2863 \n\" style=\"fill:none;stroke:#000000;stroke-dasharray:3.7,1.6;stroke-dashoffset:0;\"/>\n   </g>\n   <g id=\"line2d_9\">\n    <path clip-path=\"url(#p20fe213746)\" d=\"M 107.854648 66.2863 \nL 107.854648 111.7373 \n\" style=\"fill:none;stroke:#000000;stroke-dasharray:3.7,1.6;stroke-dashoffset:0;\"/>\n   </g>\n   <g id=\"line2d_10\">\n    <path clip-path=\"url(#p20fe213746)\" d=\"M 107.854648 111.7373 \nL 107.854648 157.1883 \n\" style=\"fill:none;stroke:#000000;stroke-dasharray:3.7,1.6;stroke-dashoffset:0;\"/>\n   </g>\n   <g id=\"line2d_11\">\n    <path clip-path=\"url(#p20fe213746)\" d=\"M 107.854648 157.1883 \nL 107.854648 202.6393 \n\" style=\"fill:none;stroke:#000000;stroke-dasharray:3.7,1.6;stroke-dashoffset:0;\"/>\n   </g>\n   <g id=\"text_1\">\n    <g clip-path=\"url(#p20fe213746)\">\n     <!-- H -->\n     <g transform=\"translate(148.417445 47.147987)scale(0.13 -0.13)\">\n      <defs>\n       <path d=\"M 9.8125 72.90625 \nL 19.671875 72.90625 \nL 19.671875 43.015625 \nL 55.515625 43.015625 \nL 55.515625 72.90625 \nL 65.375 72.90625 \nL 65.375 0 \nL 55.515625 0 \nL 55.515625 34.71875 \nL 19.671875 34.71875 \nL 19.671875 0 \nL 9.8125 0 \nz\n\" id=\"DejaVuSans-72\"/>\n      </defs>\n      <use xlink:href=\"#DejaVuSans-72\"/>\n     </g>\n    </g>\n   </g>\n   <g id=\"text_2\">\n    <g clip-path=\"url(#p20fe213746)\">\n     <!-- I -->\n     <g transform=\"translate(151.388148 92.598987)scale(0.13 -0.13)\">\n      <defs>\n       <path d=\"M 9.8125 72.90625 \nL 19.671875 72.90625 \nL 19.671875 0 \nL 9.8125 0 \nz\n\" id=\"DejaVuSans-73\"/>\n      </defs>\n      <use xlink:href=\"#DejaVuSans-73\"/>\n     </g>\n    </g>\n   </g>\n   <g id=\"text_3\">\n    <g clip-path=\"url(#p20fe213746)\">\n     <!-- H -->\n     <g transform=\"translate(148.417445 138.049987)scale(0.13 -0.13)\">\n      <use xlink:href=\"#DejaVuSans-72\"/>\n     </g>\n    </g>\n   </g>\n   <g id=\"text_4\">\n    <g clip-path=\"url(#p20fe213746)\">\n     <!-- H -->\n     <g transform=\"translate(148.417445 183.500987)scale(0.13 -0.13)\">\n      <use xlink:href=\"#DejaVuSans-72\"/>\n     </g>\n    </g>\n   </g>\n   <g id=\"text_5\">\n    <g clip-path=\"url(#p20fe213746)\">\n     <!-- ${q40}_{0}$ -->\n     <g transform=\"translate(35.383408 48.011777)scale(0.1625 -0.1625)\">\n      <defs>\n       <path d=\"M 41.703125 8.203125 \nQ 38.09375 3.46875 33.171875 1.015625 \nQ 28.265625 -1.421875 22.3125 -1.421875 \nQ 14.015625 -1.421875 9.296875 4.171875 \nQ 4.59375 9.765625 4.59375 19.578125 \nQ 4.59375 27.484375 7.5 34.859375 \nQ 10.40625 42.234375 15.828125 48.09375 \nQ 19.34375 51.90625 23.90625 53.953125 \nQ 28.46875 56 33.5 56 \nQ 39.546875 56 43.453125 53.609375 \nQ 47.359375 51.21875 49.125 46.390625 \nL 50.6875 54.59375 \nL 59.71875 54.59375 \nL 45.125 -20.609375 \nL 36.078125 -20.609375 \nz\nM 13.921875 20.90625 \nQ 13.921875 13.671875 16.9375 9.890625 \nQ 19.96875 6.109375 25.6875 6.109375 \nQ 34.1875 6.109375 40.1875 14.234375 \nQ 46.1875 22.359375 46.1875 33.984375 \nQ 46.1875 41.015625 43.078125 44.75 \nQ 39.984375 48.484375 34.1875 48.484375 \nQ 29.9375 48.484375 26.3125 46.5 \nQ 22.703125 44.53125 20.015625 40.71875 \nQ 17.1875 36.71875 15.546875 31.34375 \nQ 13.921875 25.984375 13.921875 20.90625 \nz\n\" id=\"DejaVuSans-Oblique-113\"/>\n       <path d=\"M 37.796875 64.3125 \nL 12.890625 25.390625 \nL 37.796875 25.390625 \nz\nM 35.203125 72.90625 \nL 47.609375 72.90625 \nL 47.609375 25.390625 \nL 58.015625 25.390625 \nL 58.015625 17.1875 \nL 47.609375 17.1875 \nL 47.609375 0 \nL 37.796875 0 \nL 37.796875 17.1875 \nL 4.890625 17.1875 \nL 4.890625 26.703125 \nz\n\" id=\"DejaVuSans-52\"/>\n       <path d=\"M 31.78125 66.40625 \nQ 24.171875 66.40625 20.328125 58.90625 \nQ 16.5 51.421875 16.5 36.375 \nQ 16.5 21.390625 20.328125 13.890625 \nQ 24.171875 6.390625 31.78125 6.390625 \nQ 39.453125 6.390625 43.28125 13.890625 \nQ 47.125 21.390625 47.125 36.375 \nQ 47.125 51.421875 43.28125 58.90625 \nQ 39.453125 66.40625 31.78125 66.40625 \nz\nM 31.78125 74.21875 \nQ 44.046875 74.21875 50.515625 64.515625 \nQ 56.984375 54.828125 56.984375 36.375 \nQ 56.984375 17.96875 50.515625 8.265625 \nQ 44.046875 -1.421875 31.78125 -1.421875 \nQ 19.53125 -1.421875 13.0625 8.265625 \nQ 6.59375 17.96875 6.59375 36.375 \nQ 6.59375 54.828125 13.0625 64.515625 \nQ 19.53125 74.21875 31.78125 74.21875 \nz\n\" id=\"DejaVuSans-48\"/>\n      </defs>\n      <use transform=\"translate(0 0.78125)\" xlink:href=\"#DejaVuSans-Oblique-113\"/>\n      <use transform=\"translate(63.476562 0.78125)\" xlink:href=\"#DejaVuSans-52\"/>\n      <use transform=\"translate(127.099609 0.78125)\" xlink:href=\"#DejaVuSans-48\"/>\n      <use transform=\"translate(191.679688 -15.625)scale(0.7)\" xlink:href=\"#DejaVuSans-48\"/>\n     </g>\n    </g>\n   </g>\n   <g id=\"text_6\">\n    <g clip-path=\"url(#p20fe213746)\">\n     <!-- ${q40}_{1}$ -->\n     <g transform=\"translate(35.383408 93.462777)scale(0.1625 -0.1625)\">\n      <defs>\n       <path d=\"M 12.40625 8.296875 \nL 28.515625 8.296875 \nL 28.515625 63.921875 \nL 10.984375 60.40625 \nL 10.984375 69.390625 \nL 28.421875 72.90625 \nL 38.28125 72.90625 \nL 38.28125 8.296875 \nL 54.390625 8.296875 \nL 54.390625 0 \nL 12.40625 0 \nz\n\" id=\"DejaVuSans-49\"/>\n      </defs>\n      <use transform=\"translate(0 0.78125)\" xlink:href=\"#DejaVuSans-Oblique-113\"/>\n      <use transform=\"translate(63.476562 0.78125)\" xlink:href=\"#DejaVuSans-52\"/>\n      <use transform=\"translate(127.099609 0.78125)\" xlink:href=\"#DejaVuSans-48\"/>\n      <use transform=\"translate(191.679688 -15.625)scale(0.7)\" xlink:href=\"#DejaVuSans-49\"/>\n     </g>\n    </g>\n   </g>\n   <g id=\"text_7\">\n    <g clip-path=\"url(#p20fe213746)\">\n     <!-- ${q40}_{2}$ -->\n     <g transform=\"translate(35.383408 138.913777)scale(0.1625 -0.1625)\">\n      <defs>\n       <path d=\"M 19.1875 8.296875 \nL 53.609375 8.296875 \nL 53.609375 0 \nL 7.328125 0 \nL 7.328125 8.296875 \nQ 12.9375 14.109375 22.625 23.890625 \nQ 32.328125 33.6875 34.8125 36.53125 \nQ 39.546875 41.84375 41.421875 45.53125 \nQ 43.3125 49.21875 43.3125 52.78125 \nQ 43.3125 58.59375 39.234375 62.25 \nQ 35.15625 65.921875 28.609375 65.921875 \nQ 23.96875 65.921875 18.8125 64.3125 \nQ 13.671875 62.703125 7.8125 59.421875 \nL 7.8125 69.390625 \nQ 13.765625 71.78125 18.9375 73 \nQ 24.125 74.21875 28.421875 74.21875 \nQ 39.75 74.21875 46.484375 68.546875 \nQ 53.21875 62.890625 53.21875 53.421875 \nQ 53.21875 48.921875 51.53125 44.890625 \nQ 49.859375 40.875 45.40625 35.40625 \nQ 44.1875 33.984375 37.640625 27.21875 \nQ 31.109375 20.453125 19.1875 8.296875 \nz\n\" id=\"DejaVuSans-50\"/>\n      </defs>\n      <use transform=\"translate(0 0.78125)\" xlink:href=\"#DejaVuSans-Oblique-113\"/>\n      <use transform=\"translate(63.476562 0.78125)\" xlink:href=\"#DejaVuSans-52\"/>\n      <use transform=\"translate(127.099609 0.78125)\" xlink:href=\"#DejaVuSans-48\"/>\n      <use transform=\"translate(191.679688 -15.625)scale(0.7)\" xlink:href=\"#DejaVuSans-50\"/>\n     </g>\n    </g>\n   </g>\n   <g id=\"text_8\">\n    <g clip-path=\"url(#p20fe213746)\">\n     <!-- ${q40}_{3}$ -->\n     <g transform=\"translate(35.383408 184.364777)scale(0.1625 -0.1625)\">\n      <defs>\n       <path d=\"M 40.578125 39.3125 \nQ 47.65625 37.796875 51.625 33 \nQ 55.609375 28.21875 55.609375 21.1875 \nQ 55.609375 10.40625 48.1875 4.484375 \nQ 40.765625 -1.421875 27.09375 -1.421875 \nQ 22.515625 -1.421875 17.65625 -0.515625 \nQ 12.796875 0.390625 7.625 2.203125 \nL 7.625 11.71875 \nQ 11.71875 9.328125 16.59375 8.109375 \nQ 21.484375 6.890625 26.8125 6.890625 \nQ 36.078125 6.890625 40.9375 10.546875 \nQ 45.796875 14.203125 45.796875 21.1875 \nQ 45.796875 27.640625 41.28125 31.265625 \nQ 36.765625 34.90625 28.71875 34.90625 \nL 20.21875 34.90625 \nL 20.21875 43.015625 \nL 29.109375 43.015625 \nQ 36.375 43.015625 40.234375 45.921875 \nQ 44.09375 48.828125 44.09375 54.296875 \nQ 44.09375 59.90625 40.109375 62.90625 \nQ 36.140625 65.921875 28.71875 65.921875 \nQ 24.65625 65.921875 20.015625 65.03125 \nQ 15.375 64.15625 9.8125 62.3125 \nL 9.8125 71.09375 \nQ 15.4375 72.65625 20.34375 73.4375 \nQ 25.25 74.21875 29.59375 74.21875 \nQ 40.828125 74.21875 47.359375 69.109375 \nQ 53.90625 64.015625 53.90625 55.328125 \nQ 53.90625 49.265625 50.4375 45.09375 \nQ 46.96875 40.921875 40.578125 39.3125 \nz\n\" id=\"DejaVuSans-51\"/>\n      </defs>\n      <use transform=\"translate(0 0.78125)\" xlink:href=\"#DejaVuSans-Oblique-113\"/>\n      <use transform=\"translate(63.476562 0.78125)\" xlink:href=\"#DejaVuSans-52\"/>\n      <use transform=\"translate(127.099609 0.78125)\" xlink:href=\"#DejaVuSans-48\"/>\n      <use transform=\"translate(191.679688 -15.625)scale(0.7)\" xlink:href=\"#DejaVuSans-51\"/>\n     </g>\n    </g>\n   </g>\n   <g id=\"text_9\">\n    <g clip-path=\"url(#p20fe213746)\">\n     <!-- 4 -->\n     <g transform=\"translate(87.856208 218.656825)scale(0.104 -0.104)\">\n      <use xlink:href=\"#DejaVuSans-52\"/>\n     </g>\n    </g>\n   </g>\n   <g id=\"text_10\">\n    <g clip-path=\"url(#p20fe213746)\">\n     <!-- c5 -->\n     <g transform=\"translate(54.946885 229.848784)scale(0.1625 -0.1625)\">\n      <defs>\n       <path d=\"M 48.78125 52.59375 \nL 48.78125 44.1875 \nQ 44.96875 46.296875 41.140625 47.34375 \nQ 37.3125 48.390625 33.40625 48.390625 \nQ 24.65625 48.390625 19.8125 42.84375 \nQ 14.984375 37.3125 14.984375 27.296875 \nQ 14.984375 17.28125 19.8125 11.734375 \nQ 24.65625 6.203125 33.40625 6.203125 \nQ 37.3125 6.203125 41.140625 7.25 \nQ 44.96875 8.296875 48.78125 10.40625 \nL 48.78125 2.09375 \nQ 45.015625 0.34375 40.984375 -0.53125 \nQ 36.96875 -1.421875 32.421875 -1.421875 \nQ 20.0625 -1.421875 12.78125 6.34375 \nQ 5.515625 14.109375 5.515625 27.296875 \nQ 5.515625 40.671875 12.859375 48.328125 \nQ 20.21875 56 33.015625 56 \nQ 37.15625 56 41.109375 55.140625 \nQ 45.0625 54.296875 48.78125 52.59375 \nz\n\" id=\"DejaVuSans-99\"/>\n       <path d=\"M 10.796875 72.90625 \nL 49.515625 72.90625 \nL 49.515625 64.59375 \nL 19.828125 64.59375 \nL 19.828125 46.734375 \nQ 21.96875 47.46875 24.109375 47.828125 \nQ 26.265625 48.1875 28.421875 48.1875 \nQ 40.625 48.1875 47.75 41.5 \nQ 54.890625 34.8125 54.890625 23.390625 \nQ 54.890625 11.625 47.5625 5.09375 \nQ 40.234375 -1.421875 26.90625 -1.421875 \nQ 22.3125 -1.421875 17.546875 -0.640625 \nQ 12.796875 0.140625 7.71875 1.703125 \nL 7.71875 11.625 \nQ 12.109375 9.234375 16.796875 8.0625 \nQ 21.484375 6.890625 26.703125 6.890625 \nQ 35.15625 6.890625 40.078125 11.328125 \nQ 45.015625 15.765625 45.015625 23.390625 \nQ 45.015625 31 40.078125 35.4375 \nQ 35.15625 39.890625 26.703125 39.890625 \nQ 22.75 39.890625 18.8125 39.015625 \nQ 14.890625 38.140625 10.796875 36.28125 \nz\n\" id=\"DejaVuSans-53\"/>\n      </defs>\n      <use xlink:href=\"#DejaVuSans-99\"/>\n      <use x=\"54.980469\" xlink:href=\"#DejaVuSans-53\"/>\n     </g>\n    </g>\n   </g>\n  </g>\n </g>\n <defs>\n  <clipPath id=\"p20fe213746\">\n   <rect height=\"245.4354\" width=\"176.103308\" x=\"7.2\" y=\"7.2\"/>\n  </clipPath>\n </defs>\n</svg>\n",
      "image/png": "[encoded data removed]"
     },
     "metadata": {},
     "execution_count": 9
    }
   ],
   "source": [
    "q = QuantumRegister(4) \n",
    "c = ClassicalRegister(4) \n",
    "qc = QuantumCircuit(q, c) \n",
    "#qc.h(q[0])\n",
    "#qc.h(q[1])\n",
    "#qc.cx(q[1],q[3])\n",
    "#qc.cx(q[0],q[2])\n",
    "qc.barrier()\n",
    "qc.h(q[0])\n",
    "qc.id(q[1])\n",
    "qc.h(q[2])\n",
    "qc.h(q[3])\n",
    "qc.draw(output='mpl')"
   ]
  },
  {
   "cell_type": "markdown",
   "metadata": {},
   "source": [
    "#### The translation of these circuit gate operations is in turn equivalent to the following mathematical matrice multiplications:\n",
    "$$ DynamicMatrix(1, 1) = H ⨂ H ⨂ I ⨂ H $$\n",
    "$$\n",
    "= \\frac 1 {\\sqrt{2}} \\begin{pmatrix} 1 & 1 \\\\ 1 & -1 \\end{pmatrix} ⨂ \\frac 1 {\\sqrt{2}} \\begin{pmatrix} 1 & 1 \\\\ 1 & -1 \\end{pmatrix} ⨂ \\begin{pmatrix} 1 & 0 \\\\ 0 & 1 \\end{pmatrix} ⨂ \\frac 1 {\\sqrt{2}} \\begin{pmatrix} 1 & 1 \\\\ 1 & -1 \\end{pmatrix}\n",
    "$$\n",
    "$$\n",
    "=\n",
    "\\begin{bmatrix}\\ \\frac 1 {\\sqrt{8}} & \\frac 1 {\\sqrt{8}} & 0 & 0 & \\frac 1 {\\sqrt{8}} & \\frac 1 {\\sqrt{8}}& 0 & 0 & \\frac 1 {\\sqrt{8}} & \\frac 1 {\\sqrt{8}}& 0 & 0 & \\frac 1 {\\sqrt{8}} & \\frac 1 {\\sqrt{8}} & 0 & 0  \\\\\\ \n",
    "\\frac 1 {\\sqrt{8}} & -\\frac 1 {\\sqrt{8}} & 0 & 0 & \\frac 1 {\\sqrt{8}} & -\\frac 1 {\\sqrt{8}}& 0 & 0 & \\frac 1 {\\sqrt{8}} & -\\frac 1 {\\sqrt{8}}& 0 & 0 & \\frac 1 {\\sqrt{8}} & -\\frac 1 {\\sqrt{8}} & 0 & 0 \n",
    "\\\\\\ \n",
    "0 & 0 & \\frac 1 {\\sqrt{8}} & \\frac 1 {\\sqrt{8}} & 0 & 0 & \\frac 1 {\\sqrt{8}} & \\frac 1 {\\sqrt{8}}  & 0 & 0 & \\frac 1 {\\sqrt{8}} & \\frac 1 {\\sqrt{8}} & 0 & 0 & \\frac 1 {\\sqrt{8}} & \\frac 1 {\\sqrt{8}}  \n",
    "\\\\\\\n",
    " 0 & 0 & \\frac 1 {\\sqrt{8}} & -\\frac 1 {\\sqrt{8}} & 0 & 0 & \\frac 1 {\\sqrt{8}} & -\\frac 1 {\\sqrt{8}}  & 0 & 0 & \\frac 1 {\\sqrt{8}} & -\\frac 1 {\\sqrt{8}} & 0 & 0 & \\frac 1 {\\sqrt{8}} & -\\frac 1 {\\sqrt{8}} \n",
    "\\\\\\ \n",
    "\\frac 1 {\\sqrt{8}} & \\frac 1 {\\sqrt{8}} & 0 & 0 & -\\frac 1 {\\sqrt{8}} & -\\frac 1 {\\sqrt{8}}& 0 & 0 & \\frac 1 {\\sqrt{8}} & \\frac 1 {\\sqrt{8}}& 0 & 0 & -\\frac 1 {\\sqrt{8}} & -\\frac 1 {\\sqrt{8}} & 0 & 0  \n",
    "\\\\\\ \n",
    "\\frac 1 {\\sqrt{8}} & -\\frac 1 {\\sqrt{8}} & 0 & 0 & -\\frac 1 {\\sqrt{8}} & \\frac 1 {\\sqrt{8}}& 0 & 0 & \\frac 1 {\\sqrt{8}} & -\\frac 1 {\\sqrt{8}}& 0 & 0 & -\\frac 1 {\\sqrt{8}} & \\frac 1 {\\sqrt{8}} & 0 & 0  \n",
    "\\\\\\ \n",
    "0 & 0 & \\frac 1 {\\sqrt{8}} & \\frac 1 {\\sqrt{8}} & 0 & 0 & -\\frac 1 {\\sqrt{8}} & -\\frac 1 {\\sqrt{8}}  & 0 & 0 & \\frac 1 {\\sqrt{8}} & \\frac 1 {\\sqrt{8}} & 0 & 0 & -\\frac 1 {\\sqrt{8}} & -\\frac 1 {\\sqrt{8}}   \n",
    "\\\\\\ \n",
    "0 & 0 & \\frac 1 {\\sqrt{8}} & -\\frac 1 {\\sqrt{8}} & 0 & 0 & -\\frac 1 {\\sqrt{8}} & \\frac 1 {\\sqrt{8}}  & 0 & 0 & \\frac 1 {\\sqrt{8}} & -\\frac 1 {\\sqrt{8}} & 0 & 0 & -\\frac 1 {\\sqrt{8}} & \\frac 1 {\\sqrt{8}} \n",
    "\\\\\\\n",
    " \\frac 1 {\\sqrt{8}} & \\frac 1 {\\sqrt{8}} & 0 & 0 & \\frac 1 {\\sqrt{8}} & \\frac 1 {\\sqrt{8}}& 0 & 0 & -\\frac 1 {\\sqrt{8}} & -\\frac 1 {\\sqrt{8}}& 0 & 0 & -\\frac 1 {\\sqrt{8}} & -\\frac 1 {\\sqrt{8}} & 0 & 0\n",
    "  \\\\\\\n",
    " \\frac 1 {\\sqrt{8}} & -\\frac 1 {\\sqrt{8}} & 0 & 0 & \\frac 1 {\\sqrt{8}} & -\\frac 1 {\\sqrt{8}}& 0 & 0 & -\\frac 1 {\\sqrt{8}} & \\frac 1 {\\sqrt{8}}& 0 & 0 & -\\frac 1 {\\sqrt{8}} & \\frac 1 {\\sqrt{8}} & 0 & 0\n",
    "  \\\\\\ \n",
    "0 & 0 & \\frac 1 {\\sqrt{8}} & \\frac 1 {\\sqrt{8}} & 0 & 0 & \\frac 1 {\\sqrt{8}} & \\frac 1 {\\sqrt{8}}  & 0 & 0 & -\\frac 1 {\\sqrt{8}} & -\\frac 1 {\\sqrt{8}} & 0 & 0 & -\\frac 1 {\\sqrt{8}} & -\\frac 1 {\\sqrt{8}} \n",
    "  \\\\\\ \n",
    "0 & 0 & \\frac 1 {\\sqrt{8}} & -\\frac 1 {\\sqrt{8}} & 0 & 0 & \\frac 1 {\\sqrt{8}} & -\\frac 1 {\\sqrt{8}}  & 0 & 0 & -\\frac 1 {\\sqrt{8}} & -\\frac 1 {\\sqrt{8}} & 0 & 0 & \\frac 1 {\\sqrt{8}} & \\frac 1 {\\sqrt{8}}\n",
    " \\\\\\ \n",
    "\\frac 1 {\\sqrt{8}} & \\frac 1 {\\sqrt{8}} & 0 & 0 & -\\frac 1 {\\sqrt{8}} & -\\frac 1 {\\sqrt{8}}& 0 & 0 & -\\frac 1 {\\sqrt{8}} & -\\frac 1 {\\sqrt{8}}& 0 & 0 & \\frac 1 {\\sqrt{8}} & \\frac 1 {\\sqrt{8}} & 0 & 0  \n",
    "\\\\\\ \n",
    "\\frac 1 {\\sqrt{8}} & -\\frac 1 {\\sqrt{8}} & 0 & 0 & -\\frac 1 {\\sqrt{8}} & \\frac 1 {\\sqrt{8}}& 0 & 0 & -\\frac 1 {\\sqrt{8}} & \\frac 1 {\\sqrt{8}}& 0 & 0 & \\frac 1 {\\sqrt{8}} & -\\frac 1 {\\sqrt{8}} & 0 & 0\n",
    "  \\\\\\ \n",
    "0 & 0 & \\frac 1 {\\sqrt{8}} & \\frac 1 {\\sqrt{8}} & 0 & 0 & -\\frac 1 {\\sqrt{8}} & -\\frac 1 {\\sqrt{8}}  & 0 & 0 & -\\frac 1 {\\sqrt{8}} & -\\frac 1 {\\sqrt{8}} & 0 & 0 & \\frac 1 {\\sqrt{8}} & \\frac 1 {\\sqrt{8}}  \n",
    " \\\\\\ \n",
    "0 & 0 & \\frac 1 {\\sqrt{8}} & -\\frac 1 {\\sqrt{8}} & 0 & 0 & -\\frac 1 {\\sqrt{8}} & \\frac 1 {\\sqrt{8}}  & 0 & 0 & -\\frac 1 {\\sqrt{8}} & \\frac 1 {\\sqrt{8}} & 0 & 0 & \\frac 1 {\\sqrt{8}} & -\\frac 1 {\\sqrt{8}} \\\\\\end{bmatrix}\\ \n",
    "$$"
   ]
  },
  {
   "cell_type": "markdown",
   "metadata": {},
   "source": [
    "#### Now, as we have both, the inital vector and the dynamic matrix, we can compute the winning plays for Alice and Bob with selected column and row of 1. In prinicple we can apply the rule of the i-rows, that we have established above, to this matrix-vector multiplication, however, in this case for the sake of completness we let all entries remain. But feel free to check the rule!"
   ]
  },
  {
   "cell_type": "markdown",
   "metadata": {},
   "source": [
    "$$\n",
    "Winning Plays = DynamicMatrix * InitialVector\n",
    "$$\n",
    "$$\n",
    "= \\begin{bmatrix}\\ \\frac 1 {\\sqrt{8}} & \\frac 1 {\\sqrt{8}} & 0 & 0 & \\frac 1 {\\sqrt{8}} & \\frac 1 {\\sqrt{8}}& 0 & 0 & \\frac 1 {\\sqrt{8}} & \\frac 1 {\\sqrt{8}}& 0 & 0 & \\frac 1 {\\sqrt{8}} & \\frac 1 {\\sqrt{8}} & 0 & 0  \\\\\\ \n",
    "\\frac 1 {\\sqrt{8}} & -\\frac 1 {\\sqrt{8}} & 0 & 0 & \\frac 1 {\\sqrt{8}} & -\\frac 1 {\\sqrt{8}}& 0 & 0 & \\frac 1 {\\sqrt{8}} & -\\frac 1 {\\sqrt{8}}& 0 & 0 & \\frac 1 {\\sqrt{8}} & -\\frac 1 {\\sqrt{8}} & 0 & 0 \n",
    "\\\\\\ \n",
    "0 & 0 & \\frac 1 {\\sqrt{8}} & \\frac 1 {\\sqrt{8}} & 0 & 0 & \\frac 1 {\\sqrt{8}} & \\frac 1 {\\sqrt{8}}  & 0 & 0 & \\frac 1 {\\sqrt{8}} & \\frac 1 {\\sqrt{8}} & 0 & 0 & \\frac 1 {\\sqrt{8}} & \\frac 1 {\\sqrt{8}}  \n",
    "\\\\\\\n",
    " 0 & 0 & \\frac 1 {\\sqrt{8}} & -\\frac 1 {\\sqrt{8}} & 0 & 0 & \\frac 1 {\\sqrt{8}} & -\\frac 1 {\\sqrt{8}}  & 0 & 0 & \\frac 1 {\\sqrt{8}} & -\\frac 1 {\\sqrt{8}} & 0 & 0 & \\frac 1 {\\sqrt{8}} & -\\frac 1 {\\sqrt{8}} \n",
    "\\\\\\ \n",
    "\\frac 1 {\\sqrt{8}} & \\frac 1 {\\sqrt{8}} & 0 & 0 & -\\frac 1 {\\sqrt{8}} & -\\frac 1 {\\sqrt{8}}& 0 & 0 & \\frac 1 {\\sqrt{8}} & \\frac 1 {\\sqrt{8}}& 0 & 0 & -\\frac 1 {\\sqrt{8}} & -\\frac 1 {\\sqrt{8}} & 0 & 0  \n",
    "\\\\\\ \n",
    "\\frac 1 {\\sqrt{8}} & -\\frac 1 {\\sqrt{8}} & 0 & 0 & -\\frac 1 {\\sqrt{8}} & \\frac 1 {\\sqrt{8}}& 0 & 0 & \\frac 1 {\\sqrt{8}} & -\\frac 1 {\\sqrt{8}}& 0 & 0 & -\\frac 1 {\\sqrt{8}} & \\frac 1 {\\sqrt{8}} & 0 & 0  \n",
    "\\\\\\ \n",
    "0 & 0 & \\frac 1 {\\sqrt{8}} & \\frac 1 {\\sqrt{8}} & 0 & 0 & -\\frac 1 {\\sqrt{8}} & -\\frac 1 {\\sqrt{8}}  & 0 & 0 & \\frac 1 {\\sqrt{8}} & \\frac 1 {\\sqrt{8}} & 0 & 0 & -\\frac 1 {\\sqrt{8}} & -\\frac 1 {\\sqrt{8}}   \n",
    "\\\\\\ \n",
    "0 & 0 & \\frac 1 {\\sqrt{8}} & -\\frac 1 {\\sqrt{8}} & 0 & 0 & -\\frac 1 {\\sqrt{8}} & \\frac 1 {\\sqrt{8}}  & 0 & 0 & \\frac 1 {\\sqrt{8}} & -\\frac 1 {\\sqrt{8}} & 0 & 0 & -\\frac 1 {\\sqrt{8}} & \\frac 1 {\\sqrt{8}} \n",
    "\\\\\\\n",
    " \\frac 1 {\\sqrt{8}} & \\frac 1 {\\sqrt{8}} & 0 & 0 & \\frac 1 {\\sqrt{8}} & \\frac 1 {\\sqrt{8}}& 0 & 0 & -\\frac 1 {\\sqrt{8}} & -\\frac 1 {\\sqrt{8}}& 0 & 0 & -\\frac 1 {\\sqrt{8}} & -\\frac 1 {\\sqrt{8}} & 0 & 0\n",
    "  \\\\\\\n",
    " \\frac 1 {\\sqrt{8}} & -\\frac 1 {\\sqrt{8}} & 0 & 0 & \\frac 1 {\\sqrt{8}} & -\\frac 1 {\\sqrt{8}}& 0 & 0 & -\\frac 1 {\\sqrt{8}} & \\frac 1 {\\sqrt{8}}& 0 & 0 & -\\frac 1 {\\sqrt{8}} & \\frac 1 {\\sqrt{8}} & 0 & 0\n",
    "  \\\\\\ \n",
    "0 & 0 & \\frac 1 {\\sqrt{8}} & \\frac 1 {\\sqrt{8}} & 0 & 0 & \\frac 1 {\\sqrt{8}} & \\frac 1 {\\sqrt{8}}  & 0 & 0 & -\\frac 1 {\\sqrt{8}} & -\\frac 1 {\\sqrt{8}} & 0 & 0 & -\\frac 1 {\\sqrt{8}} & -\\frac 1 {\\sqrt{8}} \n",
    "  \\\\\\ \n",
    "0 & 0 & \\frac 1 {\\sqrt{8}} & -\\frac 1 {\\sqrt{8}} & 0 & 0 & \\frac 1 {\\sqrt{8}} & -\\frac 1 {\\sqrt{8}}  & 0 & 0 & -\\frac 1 {\\sqrt{8}} & -\\frac 1 {\\sqrt{8}} & 0 & 0 & \\frac 1 {\\sqrt{8}} & \\frac 1 {\\sqrt{8}}\n",
    " \\\\\\ \n",
    "\\frac 1 {\\sqrt{8}} & \\frac 1 {\\sqrt{8}} & 0 & 0 & -\\frac 1 {\\sqrt{8}} & -\\frac 1 {\\sqrt{8}}& 0 & 0 & -\\frac 1 {\\sqrt{8}} & -\\frac 1 {\\sqrt{8}}& 0 & 0 & \\frac 1 {\\sqrt{8}} & \\frac 1 {\\sqrt{8}} & 0 & 0  \n",
    "\\\\\\ \n",
    "\\frac 1 {\\sqrt{8}} & -\\frac 1 {\\sqrt{8}} & 0 & 0 & -\\frac 1 {\\sqrt{8}} & \\frac 1 {\\sqrt{8}}& 0 & 0 & -\\frac 1 {\\sqrt{8}} & \\frac 1 {\\sqrt{8}}& 0 & 0 & \\frac 1 {\\sqrt{8}} & -\\frac 1 {\\sqrt{8}} & 0 & 0\n",
    "  \\\\\\ \n",
    "0 & 0 & \\frac 1 {\\sqrt{8}} & \\frac 1 {\\sqrt{8}} & 0 & 0 & -\\frac 1 {\\sqrt{8}} & -\\frac 1 {\\sqrt{8}}  & 0 & 0 & -\\frac 1 {\\sqrt{8}} & -\\frac 1 {\\sqrt{8}} & 0 & 0 & \\frac 1 {\\sqrt{8}} & \\frac 1 {\\sqrt{8}}  \n",
    " \\\\\\ \n",
    "0 & 0 & \\frac 1 {\\sqrt{8}} & -\\frac 1 {\\sqrt{8}} & 0 & 0 & -\\frac 1 {\\sqrt{8}} & \\frac 1 {\\sqrt{8}}  & 0 & 0 & -\\frac 1 {\\sqrt{8}} & \\frac 1 {\\sqrt{8}} & 0 & 0 & \\frac 1 {\\sqrt{8}} & -\\frac 1 {\\sqrt{8}} \\\\\\end{bmatrix}\\ \n",
    "*\n",
    "\\begin{pmatrix} \\frac 1 {2} \\\\0 \\\\0 \\\\0 \\\\0 \\\\\\frac 1 {2} \\\\0 \\\\0 \\\\0 \\\\0 \\\\\\frac 1 {2} \\\\0 \\\\0 \\\\0 \\\\ 0\\\\ \\frac 1 {2}\\end{pmatrix}\n",
    "$$\n",
    "$$\n",
    "= \\begin{pmatrix} \\frac 1 {\\sqrt{8}} \\\\0 \\\\\\frac 1 {\\sqrt{8}} \\\\0 \\\\0 \\\\\\frac 1 {\\sqrt{8}}  \\\\0 \\\\\\frac 1 {\\sqrt{8}}  \\\\\\frac 1 {\\sqrt{8}}  \\\\0 \\\\ -\\frac 1 {\\sqrt{8}}  \\\\0 \\\\0 \\\\\\frac 1 {\\sqrt{8}}  \\\\ 0\\\\ -\\frac 1 {\\sqrt{8}} \\end{pmatrix}\n",
    "$$\n"
   ]
  },
  {
   "cell_type": "markdown",
   "metadata": {},
   "source": [
    "#### Finally, this vector contains the qubits that can be played to win the game with probability 1, these are:\n",
    "\n",
    "$$= \\frac 1 {8} (|0000\\rangle+|0100\\rangle+|0101\\rangle+|01111\\rangle+|1000\\rangle)+|1011\\rangle)+|1101\\rangle)+|1111\\rangle)$$\n",
    "\n",
    "#### To validate these mathematical results, we will run the quantum circuit in one go and compare the respective qubit results"
   ]
  },
  {
   "cell_type": "code",
   "execution_count": 10,
   "metadata": {},
   "outputs": [
    {
     "output_type": "execute_result",
     "data": {
      "text/plain": [
       "<Figure size 654.795x325.08 with 1 Axes>"
      ],
      "image/svg+xml": "<?xml version=\"1.0\" encoding=\"utf-8\" standalone=\"no\"?>\n<!DOCTYPE svg PUBLIC \"-//W3C//DTD SVG 1.1//EN\"\n  \"http://www.w3.org/Graphics/SVG/1.1/DTD/svg11.dtd\">\n<!-- Created with matplotlib (https://matplotlib.org/) -->\n<svg height=\"259.8354pt\" version=\"1.1\" viewBox=\"0 0 508.770072 259.8354\" width=\"508.770072pt\" xmlns=\"http://www.w3.org/2000/svg\" xmlns:xlink=\"http://www.w3.org/1999/xlink\">\n <metadata>\n  <rdf:RDF xmlns:cc=\"http://creativecommons.org/ns#\" xmlns:dc=\"http://purl.org/dc/elements/1.1/\" xmlns:rdf=\"http://www.w3.org/1999/02/22-rdf-syntax-ns#\">\n   <cc:Work>\n    <dc:type rdf:resource=\"http://purl.org/dc/dcmitype/StillImage\"/>\n    <dc:date>2021-03-30T13:37:58.913407</dc:date>\n    <dc:format>image/svg+xml</dc:format>\n    <dc:creator>\n     <cc:Agent>\n      <dc:title>Matplotlib v3.3.2, https://matplotlib.org/</dc:title>\n     </cc:Agent>\n    </dc:creator>\n   </cc:Work>\n  </rdf:RDF>\n </metadata>\n <defs>\n  <style type=\"text/css\">*{stroke-linecap:butt;stroke-linejoin:round;}</style>\n </defs>\n <g id=\"figure_1\">\n  <g id=\"patch_1\">\n   <path d=\"M 0 259.8354 \nL 508.770072 259.8354 \nL 508.770072 0 \nL 0 0 \nz\n\" style=\"fill:#ffffff;\"/>\n  </g>\n  <g id=\"axes_1\">\n   <g id=\"patch_2\">\n    <path clip-path=\"url(#p615fd25c72)\" d=\"M 329.310782 215.024697 \nL 341.128042 215.024697 \nL 335.219412 223.54676 \nz\n\" style=\"fill:#778899;\"/>\n   </g>\n   <g id=\"patch_3\">\n    <path clip-path=\"url(#p615fd25c72)\" d=\"M 374.761782 215.024697 \nL 386.579042 215.024697 \nL 380.670412 223.54676 \nz\n\" style=\"fill:#778899;\"/>\n   </g>\n   <g id=\"patch_4\">\n    <path clip-path=\"url(#p615fd25c72)\" d=\"M 420.212782 215.024697 \nL 432.030042 215.024697 \nL 426.121412 223.54676 \nz\n\" style=\"fill:#778899;\"/>\n   </g>\n   <g id=\"patch_5\">\n    <path clip-path=\"url(#p615fd25c72)\" d=\"M 465.663782 215.024697 \nL 477.481042 215.024697 \nL 471.572412 223.54676 \nz\n\" style=\"fill:#778899;\"/>\n   </g>\n   <g id=\"line2d_1\">\n    <path clip-path=\"url(#p615fd25c72)\" d=\"M 83.420872 43.5608 \nL 497.024972 43.5608 \n\" style=\"fill:none;stroke:#000000;stroke-linecap:square;stroke-width:2;\"/>\n   </g>\n   <g id=\"line2d_2\">\n    <path clip-path=\"url(#p615fd25c72)\" d=\"M 83.420872 89.0118 \nL 497.024972 89.0118 \n\" style=\"fill:none;stroke:#000000;stroke-linecap:square;stroke-width:2;\"/>\n   </g>\n   <g id=\"line2d_3\">\n    <path clip-path=\"url(#p615fd25c72)\" d=\"M 83.420872 134.4628 \nL 497.024972 134.4628 \n\" style=\"fill:none;stroke:#000000;stroke-linecap:square;stroke-width:2;\"/>\n   </g>\n   <g id=\"line2d_4\">\n    <path clip-path=\"url(#p615fd25c72)\" d=\"M 83.420872 179.9138 \nL 497.024972 179.9138 \n\" style=\"fill:none;stroke:#000000;stroke-linecap:square;stroke-width:2;\"/>\n   </g>\n   <g id=\"line2d_5\">\n    <path clip-path=\"url(#p615fd25c72)\" d=\"M 83.420872 223.887642 \nL 497.024972 223.887642 \n\" style=\"fill:none;stroke:#778899;stroke-linecap:square;stroke-width:2;\"/>\n   </g>\n   <g id=\"line2d_6\">\n    <path clip-path=\"url(#p615fd25c72)\" d=\"M 83.420872 226.841957 \nL 497.024972 226.841957 \n\" style=\"fill:none;stroke:#778899;stroke-linecap:square;stroke-width:2;\"/>\n   </g>\n   <g id=\"patch_6\">\n    <path clip-path=\"url(#p615fd25c72)\" d=\"M 235.454467 66.2863 \nL 253.180357 66.2863 \nL 253.180357 20.8353 \nL 235.454467 20.8353 \nz\n\" style=\"fill:#bdbdbd;opacity:0.6;\"/>\n   </g>\n   <g id=\"patch_7\">\n    <path clip-path=\"url(#p615fd25c72)\" d=\"M 235.454467 111.7373 \nL 253.180357 111.7373 \nL 253.180357 66.2863 \nL 235.454467 66.2863 \nz\n\" style=\"fill:#bdbdbd;opacity:0.6;\"/>\n   </g>\n   <g id=\"patch_8\">\n    <path clip-path=\"url(#p615fd25c72)\" d=\"M 235.454467 157.1883 \nL 253.180357 157.1883 \nL 253.180357 111.7373 \nL 235.454467 111.7373 \nz\n\" style=\"fill:#bdbdbd;opacity:0.6;\"/>\n   </g>\n   <g id=\"patch_9\">\n    <path clip-path=\"url(#p615fd25c72)\" d=\"M 235.454467 202.6393 \nL 253.180357 202.6393 \nL 253.180357 157.1883 \nL 235.454467 157.1883 \nz\n\" style=\"fill:#bdbdbd;opacity:0.6;\"/>\n   </g>\n   <g id=\"line2d_7\">\n    <path clip-path=\"url(#p615fd25c72)\" d=\"M 153.415412 179.9138 \nL 153.415412 89.0118 \n\" style=\"fill:none;stroke:#6fa4ff;stroke-linecap:square;stroke-width:2;\"/>\n   </g>\n   <g id=\"line2d_8\">\n    <path clip-path=\"url(#p615fd25c72)\" d=\"M 198.866412 134.4628 \nL 198.866412 43.5608 \n\" style=\"fill:none;stroke:#6fa4ff;stroke-linecap:square;stroke-width:2;\"/>\n   </g>\n   <g id=\"line2d_9\">\n    <path clip-path=\"url(#p615fd25c72)\" d=\"M 336.69657 43.5608 \nL 336.69657 215.024697 \n\" style=\"fill:none;stroke:#778899;stroke-linecap:square;stroke-width:2;\"/>\n   </g>\n   <g id=\"line2d_10\">\n    <path clip-path=\"url(#p615fd25c72)\" d=\"M 333.742255 43.5608 \nL 333.742255 215.024697 \n\" style=\"fill:none;stroke:#778899;stroke-linecap:square;stroke-width:2;\"/>\n   </g>\n   <g id=\"line2d_11\">\n    <path clip-path=\"url(#p615fd25c72)\" d=\"M 382.14757 89.0118 \nL 382.14757 215.024697 \n\" style=\"fill:none;stroke:#778899;stroke-linecap:square;stroke-width:2;\"/>\n   </g>\n   <g id=\"line2d_12\">\n    <path clip-path=\"url(#p615fd25c72)\" d=\"M 379.193255 89.0118 \nL 379.193255 215.024697 \n\" style=\"fill:none;stroke:#778899;stroke-linecap:square;stroke-width:2;\"/>\n   </g>\n   <g id=\"line2d_13\">\n    <path clip-path=\"url(#p615fd25c72)\" d=\"M 427.59857 134.4628 \nL 427.59857 215.024697 \n\" style=\"fill:none;stroke:#778899;stroke-linecap:square;stroke-width:2;\"/>\n   </g>\n   <g id=\"line2d_14\">\n    <path clip-path=\"url(#p615fd25c72)\" d=\"M 424.644255 134.4628 \nL 424.644255 215.024697 \n\" style=\"fill:none;stroke:#778899;stroke-linecap:square;stroke-width:2;\"/>\n   </g>\n   <g id=\"line2d_15\">\n    <path clip-path=\"url(#p615fd25c72)\" d=\"M 473.04957 179.9138 \nL 473.04957 215.024697 \n\" style=\"fill:none;stroke:#778899;stroke-linecap:square;stroke-width:2;\"/>\n   </g>\n   <g id=\"line2d_16\">\n    <path clip-path=\"url(#p615fd25c72)\" d=\"M 470.095255 179.9138 \nL 470.095255 215.024697 \n\" style=\"fill:none;stroke:#778899;stroke-linecap:square;stroke-width:2;\"/>\n   </g>\n   <g id=\"line2d_17\">\n    <path clip-path=\"url(#p615fd25c72)\" d=\"M 92.511072 229.9099 \nL 97.056172 220.8197 \n\" style=\"fill:none;stroke:#778899;stroke-linecap:square;stroke-width:1.5;\"/>\n   </g>\n   <g id=\"patch_10\">\n    <path clip-path=\"url(#p615fd25c72)\" d=\"M 93.192837 58.332375 \nL 122.735987 58.332375 \nL 122.735987 28.789225 \nL 93.192837 28.789225 \nz\n\" style=\"fill:#6fa4ff;stroke:#6fa4ff;stroke-linejoin:miter;stroke-width:1.5;\"/>\n   </g>\n   <g id=\"patch_11\">\n    <path clip-path=\"url(#p615fd25c72)\" d=\"M 93.192837 103.783375 \nL 122.735987 103.783375 \nL 122.735987 74.240225 \nL 93.192837 74.240225 \nz\n\" style=\"fill:#6fa4ff;stroke:#6fa4ff;stroke-linejoin:miter;stroke-width:1.5;\"/>\n   </g>\n   <g id=\"patch_12\">\n    <path clip-path=\"url(#p615fd25c72)\" d=\"M 153.415412 93.443272 \nC 154.590653 93.443272 155.717916 92.976345 156.548937 92.145324 \nC 157.379957 91.314304 157.846885 90.18704 157.846885 89.0118 \nC 157.846885 87.83656 157.379957 86.709296 156.548937 85.878276 \nC 155.717916 85.047255 154.590653 84.580327 153.415412 84.580327 \nC 152.240172 84.580327 151.112909 85.047255 150.281888 85.878276 \nC 149.450868 86.709296 148.98394 87.83656 148.98394 89.0118 \nC 148.98394 90.18704 149.450868 91.314304 150.281888 92.145324 \nC 151.112909 92.976345 152.240172 93.443272 153.415412 93.443272 \nz\n\" style=\"fill:#6fa4ff;stroke:#6fa4ff;stroke-linejoin:miter;stroke-width:1.5;\"/>\n   </g>\n   <g id=\"patch_13\">\n    <path clip-path=\"url(#p615fd25c72)\" d=\"M 153.415412 190.253902 \nC 156.15764 190.253902 158.787922 189.164404 160.726969 187.225357 \nC 162.666017 185.286309 163.755515 182.656027 163.755515 179.9138 \nC 163.755515 177.171573 162.666017 174.541291 160.726969 172.602243 \nC 158.787922 170.663196 156.15764 169.573697 153.415412 169.573697 \nC 150.673185 169.573697 148.042903 170.663196 146.103856 172.602243 \nC 144.164808 174.541291 143.07531 177.171573 143.07531 179.9138 \nC 143.07531 182.656027 144.164808 185.286309 146.103856 187.225357 \nC 148.042903 189.164404 150.673185 190.253902 153.415412 190.253902 \nz\n\" style=\"fill:#6fa4ff;stroke:#6fa4ff;stroke-linejoin:miter;stroke-width:2;\"/>\n   </g>\n   <g id=\"patch_14\">\n    <path clip-path=\"url(#p615fd25c72)\" d=\"M 198.866412 47.992272 \nC 200.041653 47.992272 201.168916 47.525345 201.999937 46.694324 \nC 202.830957 45.863304 203.297885 44.73604 203.297885 43.5608 \nC 203.297885 42.38556 202.830957 41.258296 201.999937 40.427276 \nC 201.168916 39.596255 200.041653 39.129327 198.866412 39.129327 \nC 197.691172 39.129327 196.563909 39.596255 195.732888 40.427276 \nC 194.901868 41.258296 194.43494 42.38556 194.43494 43.5608 \nC 194.43494 44.73604 194.901868 45.863304 195.732888 46.694324 \nC 196.563909 47.525345 197.691172 47.992272 198.866412 47.992272 \nz\n\" style=\"fill:#6fa4ff;stroke:#6fa4ff;stroke-linejoin:miter;stroke-width:1.5;\"/>\n   </g>\n   <g id=\"patch_15\">\n    <path clip-path=\"url(#p615fd25c72)\" d=\"M 198.866412 144.802902 \nC 201.60864 144.802902 204.238922 143.713404 206.177969 141.774357 \nC 208.117017 139.835309 209.206515 137.205027 209.206515 134.4628 \nC 209.206515 131.720573 208.117017 129.090291 206.177969 127.151243 \nC 204.238922 125.212196 201.60864 124.122697 198.866412 124.122697 \nC 196.124185 124.122697 193.493903 125.212196 191.554856 127.151243 \nC 189.615808 129.090291 188.52631 131.720573 188.52631 134.4628 \nC 188.52631 137.205027 189.615808 139.835309 191.554856 141.774357 \nC 193.493903 143.713404 196.124185 144.802902 198.866412 144.802902 \nz\n\" style=\"fill:#6fa4ff;stroke:#6fa4ff;stroke-linejoin:miter;stroke-width:2;\"/>\n   </g>\n   <g id=\"patch_16\">\n    <path clip-path=\"url(#p615fd25c72)\" d=\"M 274.996837 58.332375 \nL 304.539987 58.332375 \nL 304.539987 28.789225 \nL 274.996837 28.789225 \nz\n\" style=\"fill:#6fa4ff;stroke:#6fa4ff;stroke-linejoin:miter;stroke-width:1.5;\"/>\n   </g>\n   <g id=\"patch_17\">\n    <path clip-path=\"url(#p615fd25c72)\" d=\"M 274.996837 103.783375 \nL 304.539987 103.783375 \nL 304.539987 74.240225 \nL 274.996837 74.240225 \nz\n\" style=\"fill:#05bab6;stroke:#05bab6;stroke-linejoin:miter;stroke-width:1.5;\"/>\n   </g>\n   <g id=\"patch_18\">\n    <path clip-path=\"url(#p615fd25c72)\" d=\"M 274.996837 149.234375 \nL 304.539987 149.234375 \nL 304.539987 119.691225 \nL 274.996837 119.691225 \nz\n\" style=\"fill:#6fa4ff;stroke:#6fa4ff;stroke-linejoin:miter;stroke-width:1.5;\"/>\n   </g>\n   <g id=\"patch_19\">\n    <path clip-path=\"url(#p615fd25c72)\" d=\"M 274.996837 194.685375 \nL 304.539987 194.685375 \nL 304.539987 165.142225 \nL 274.996837 165.142225 \nz\n\" style=\"fill:#6fa4ff;stroke:#6fa4ff;stroke-linejoin:miter;stroke-width:1.5;\"/>\n   </g>\n   <g id=\"patch_20\">\n    <path clip-path=\"url(#p615fd25c72)\" d=\"M 320.447837 58.332375 \nL 349.990987 58.332375 \nL 349.990987 28.789225 \nL 320.447837 28.789225 \nz\n\" style=\"stroke:#000000;stroke-linejoin:miter;stroke-width:1.5;\"/>\n   </g>\n   <g id=\"patch_21\">\n    <path clip-path=\"url(#p615fd25c72)\" d=\"M 345.559515 47.992272 \nC 345.559515 45.250959 344.469371 42.619118 342.530969 40.680716 \nC 340.592567 38.742314 337.960726 37.65217 335.219412 37.65217 \nC 332.478099 37.65217 329.846258 38.742314 327.907856 40.680716 \nC 325.969454 42.619118 324.87931 45.250959 324.87931 47.992272 \n\" style=\"fill:none;stroke:#ffffff;stroke-linejoin:miter;stroke-width:2;\"/>\n   </g>\n   <g id=\"patch_22\">\n    <path clip-path=\"url(#p615fd25c72)\" d=\"M 365.898837 103.783375 \nL 395.441987 103.783375 \nL 395.441987 74.240225 \nL 365.898837 74.240225 \nz\n\" style=\"stroke:#000000;stroke-linejoin:miter;stroke-width:1.5;\"/>\n   </g>\n   <g id=\"patch_23\">\n    <path clip-path=\"url(#p615fd25c72)\" d=\"M 391.010515 93.443272 \nC 391.010515 90.701959 389.920371 88.070118 387.981969 86.131716 \nC 386.043567 84.193314 383.411726 83.10317 380.670412 83.10317 \nC 377.929099 83.10317 375.297258 84.193314 373.358856 86.131716 \nC 371.420454 88.070118 370.33031 90.701959 370.33031 93.443272 \n\" style=\"fill:none;stroke:#ffffff;stroke-linejoin:miter;stroke-width:2;\"/>\n   </g>\n   <g id=\"patch_24\">\n    <path clip-path=\"url(#p615fd25c72)\" d=\"M 411.349837 149.234375 \nL 440.892987 149.234375 \nL 440.892987 119.691225 \nL 411.349837 119.691225 \nz\n\" style=\"stroke:#000000;stroke-linejoin:miter;stroke-width:1.5;\"/>\n   </g>\n   <g id=\"patch_25\">\n    <path clip-path=\"url(#p615fd25c72)\" d=\"M 436.461515 138.894272 \nC 436.461515 136.152959 435.371371 133.521118 433.432969 131.582716 \nC 431.494567 129.644314 428.862726 128.55417 426.121412 128.55417 \nC 423.380099 128.55417 420.748258 129.644314 418.809856 131.582716 \nC 416.871454 133.521118 415.78131 136.152959 415.78131 138.894272 \n\" style=\"fill:none;stroke:#ffffff;stroke-linejoin:miter;stroke-width:2;\"/>\n   </g>\n   <g id=\"patch_26\">\n    <path clip-path=\"url(#p615fd25c72)\" d=\"M 456.800837 194.685375 \nL 486.343987 194.685375 \nL 486.343987 165.142225 \nL 456.800837 165.142225 \nz\n\" style=\"stroke:#000000;stroke-linejoin:miter;stroke-width:1.5;\"/>\n   </g>\n   <g id=\"patch_27\">\n    <path clip-path=\"url(#p615fd25c72)\" d=\"M 481.912515 184.345272 \nC 481.912515 181.603959 480.822371 178.972118 478.883969 177.033716 \nC 476.945567 175.095314 474.313726 174.00517 471.572412 174.00517 \nC 468.831099 174.00517 466.199258 175.095314 464.260856 177.033716 \nC 462.322454 178.972118 461.23231 181.603959 461.23231 184.345272 \n\" style=\"fill:none;stroke:#ffffff;stroke-linejoin:miter;stroke-width:2;\"/>\n   </g>\n   <g id=\"line2d_18\">\n    <path clip-path=\"url(#p615fd25c72)\" d=\"M 335.219412 47.992272 \nL 345.559515 37.65217 \n\" style=\"fill:none;stroke:#ffffff;stroke-linecap:square;stroke-width:2;\"/>\n   </g>\n   <g id=\"line2d_19\">\n    <path clip-path=\"url(#p615fd25c72)\" d=\"M 380.670412 93.443272 \nL 391.010515 83.10317 \n\" style=\"fill:none;stroke:#ffffff;stroke-linecap:square;stroke-width:2;\"/>\n   </g>\n   <g id=\"line2d_20\">\n    <path clip-path=\"url(#p615fd25c72)\" d=\"M 426.121412 138.894272 \nL 436.461515 128.55417 \n\" style=\"fill:none;stroke:#ffffff;stroke-linecap:square;stroke-width:2;\"/>\n   </g>\n   <g id=\"line2d_21\">\n    <path clip-path=\"url(#p615fd25c72)\" d=\"M 471.572412 184.345272 \nL 481.912515 174.00517 \n\" style=\"fill:none;stroke:#ffffff;stroke-linecap:square;stroke-width:2;\"/>\n   </g>\n   <g id=\"line2d_22\">\n    <path clip-path=\"url(#p615fd25c72)\" d=\"M 153.415412 185.82243 \nL 153.415412 174.00517 \n\" style=\"fill:none;stroke:#ffffff;stroke-linecap:square;stroke-width:2;\"/>\n   </g>\n   <g id=\"line2d_23\">\n    <path clip-path=\"url(#p615fd25c72)\" d=\"M 147.506782 179.9138 \nL 159.324042 179.9138 \n\" style=\"fill:none;stroke:#ffffff;stroke-linecap:square;stroke-width:2;\"/>\n   </g>\n   <g id=\"line2d_24\">\n    <path clip-path=\"url(#p615fd25c72)\" d=\"M 198.866412 140.37143 \nL 198.866412 128.55417 \n\" style=\"fill:none;stroke:#ffffff;stroke-linecap:square;stroke-width:2;\"/>\n   </g>\n   <g id=\"line2d_25\">\n    <path clip-path=\"url(#p615fd25c72)\" d=\"M 192.957782 134.4628 \nL 204.775042 134.4628 \n\" style=\"fill:none;stroke:#ffffff;stroke-linecap:square;stroke-width:2;\"/>\n   </g>\n   <g id=\"line2d_26\">\n    <path clip-path=\"url(#p615fd25c72)\" d=\"M 244.317412 20.8353 \nL 244.317412 66.2863 \n\" style=\"fill:none;stroke:#000000;stroke-dasharray:3.7,1.6;stroke-dashoffset:0;\"/>\n   </g>\n   <g id=\"line2d_27\">\n    <path clip-path=\"url(#p615fd25c72)\" d=\"M 244.317412 66.2863 \nL 244.317412 111.7373 \n\" style=\"fill:none;stroke:#000000;stroke-dasharray:3.7,1.6;stroke-dashoffset:0;\"/>\n   </g>\n   <g id=\"line2d_28\">\n    <path clip-path=\"url(#p615fd25c72)\" d=\"M 244.317412 111.7373 \nL 244.317412 157.1883 \n\" style=\"fill:none;stroke:#000000;stroke-dasharray:3.7,1.6;stroke-dashoffset:0;\"/>\n   </g>\n   <g id=\"line2d_29\">\n    <path clip-path=\"url(#p615fd25c72)\" d=\"M 244.317412 157.1883 \nL 244.317412 202.6393 \n\" style=\"fill:none;stroke:#000000;stroke-dasharray:3.7,1.6;stroke-dashoffset:0;\"/>\n   </g>\n   <g id=\"text_1\">\n    <g clip-path=\"url(#p615fd25c72)\">\n     <!-- H -->\n     <g transform=\"translate(103.076209 47.147987)scale(0.13 -0.13)\">\n      <defs>\n       <path d=\"M 9.8125 72.90625 \nL 19.671875 72.90625 \nL 19.671875 43.015625 \nL 55.515625 43.015625 \nL 55.515625 72.90625 \nL 65.375 72.90625 \nL 65.375 0 \nL 55.515625 0 \nL 55.515625 34.71875 \nL 19.671875 34.71875 \nL 19.671875 0 \nL 9.8125 0 \nz\n\" id=\"DejaVuSans-72\"/>\n      </defs>\n      <use xlink:href=\"#DejaVuSans-72\"/>\n     </g>\n    </g>\n   </g>\n   <g id=\"text_2\">\n    <g clip-path=\"url(#p615fd25c72)\">\n     <!-- H -->\n     <g transform=\"translate(103.076209 92.598987)scale(0.13 -0.13)\">\n      <use xlink:href=\"#DejaVuSans-72\"/>\n     </g>\n    </g>\n   </g>\n   <g id=\"text_3\">\n    <g clip-path=\"url(#p615fd25c72)\">\n     <!-- H -->\n     <g transform=\"translate(284.880209 47.147987)scale(0.13 -0.13)\">\n      <use xlink:href=\"#DejaVuSans-72\"/>\n     </g>\n    </g>\n   </g>\n   <g id=\"text_4\">\n    <g clip-path=\"url(#p615fd25c72)\">\n     <!-- I -->\n     <g transform=\"translate(287.850912 92.598987)scale(0.13 -0.13)\">\n      <defs>\n       <path d=\"M 9.8125 72.90625 \nL 19.671875 72.90625 \nL 19.671875 0 \nL 9.8125 0 \nz\n\" id=\"DejaVuSans-73\"/>\n      </defs>\n      <use xlink:href=\"#DejaVuSans-73\"/>\n     </g>\n    </g>\n   </g>\n   <g id=\"text_5\">\n    <g clip-path=\"url(#p615fd25c72)\">\n     <!-- H -->\n     <g transform=\"translate(284.880209 138.049987)scale(0.13 -0.13)\">\n      <use xlink:href=\"#DejaVuSans-72\"/>\n     </g>\n    </g>\n   </g>\n   <g id=\"text_6\">\n    <g clip-path=\"url(#p615fd25c72)\">\n     <!-- H -->\n     <g transform=\"translate(284.880209 183.500987)scale(0.13 -0.13)\">\n      <use xlink:href=\"#DejaVuSans-72\"/>\n     </g>\n    </g>\n   </g>\n   <g id=\"text_7\">\n    <g clip-path=\"url(#p615fd25c72)\">\n     <!-- 0 -->\n     <g transform=\"translate(346.582162 218.656825)scale(0.104 -0.104)\">\n      <defs>\n       <path d=\"M 31.78125 66.40625 \nQ 24.171875 66.40625 20.328125 58.90625 \nQ 16.5 51.421875 16.5 36.375 \nQ 16.5 21.390625 20.328125 13.890625 \nQ 24.171875 6.390625 31.78125 6.390625 \nQ 39.453125 6.390625 43.28125 13.890625 \nQ 47.125 21.390625 47.125 36.375 \nQ 47.125 51.421875 43.28125 58.90625 \nQ 39.453125 66.40625 31.78125 66.40625 \nz\nM 31.78125 74.21875 \nQ 44.046875 74.21875 50.515625 64.515625 \nQ 56.984375 54.828125 56.984375 36.375 \nQ 56.984375 17.96875 50.515625 8.265625 \nQ 44.046875 -1.421875 31.78125 -1.421875 \nQ 19.53125 -1.421875 13.0625 8.265625 \nQ 6.59375 17.96875 6.59375 36.375 \nQ 6.59375 54.828125 13.0625 64.515625 \nQ 19.53125 74.21875 31.78125 74.21875 \nz\n\" id=\"DejaVuSans-48\"/>\n      </defs>\n      <use xlink:href=\"#DejaVuSans-48\"/>\n     </g>\n    </g>\n   </g>\n   <g id=\"text_8\">\n    <g clip-path=\"url(#p615fd25c72)\">\n     <!-- 1 -->\n     <g transform=\"translate(392.033162 218.656825)scale(0.104 -0.104)\">\n      <defs>\n       <path d=\"M 12.40625 8.296875 \nL 28.515625 8.296875 \nL 28.515625 63.921875 \nL 10.984375 60.40625 \nL 10.984375 69.390625 \nL 28.421875 72.90625 \nL 38.28125 72.90625 \nL 38.28125 8.296875 \nL 54.390625 8.296875 \nL 54.390625 0 \nL 12.40625 0 \nz\n\" id=\"DejaVuSans-49\"/>\n      </defs>\n      <use xlink:href=\"#DejaVuSans-49\"/>\n     </g>\n    </g>\n   </g>\n   <g id=\"text_9\">\n    <g clip-path=\"url(#p615fd25c72)\">\n     <!-- 2 -->\n     <g transform=\"translate(437.484162 218.656825)scale(0.104 -0.104)\">\n      <defs>\n       <path d=\"M 19.1875 8.296875 \nL 53.609375 8.296875 \nL 53.609375 0 \nL 7.328125 0 \nL 7.328125 8.296875 \nQ 12.9375 14.109375 22.625 23.890625 \nQ 32.328125 33.6875 34.8125 36.53125 \nQ 39.546875 41.84375 41.421875 45.53125 \nQ 43.3125 49.21875 43.3125 52.78125 \nQ 43.3125 58.59375 39.234375 62.25 \nQ 35.15625 65.921875 28.609375 65.921875 \nQ 23.96875 65.921875 18.8125 64.3125 \nQ 13.671875 62.703125 7.8125 59.421875 \nL 7.8125 69.390625 \nQ 13.765625 71.78125 18.9375 73 \nQ 24.125 74.21875 28.421875 74.21875 \nQ 39.75 74.21875 46.484375 68.546875 \nQ 53.21875 62.890625 53.21875 53.421875 \nQ 53.21875 48.921875 51.53125 44.890625 \nQ 49.859375 40.875 45.40625 35.40625 \nQ 44.1875 33.984375 37.640625 27.21875 \nQ 31.109375 20.453125 19.1875 8.296875 \nz\n\" id=\"DejaVuSans-50\"/>\n      </defs>\n      <use xlink:href=\"#DejaVuSans-50\"/>\n     </g>\n    </g>\n   </g>\n   <g id=\"text_10\">\n    <g clip-path=\"url(#p615fd25c72)\">\n     <!-- 3 -->\n     <g transform=\"translate(482.935162 218.656825)scale(0.104 -0.104)\">\n      <defs>\n       <path d=\"M 40.578125 39.3125 \nQ 47.65625 37.796875 51.625 33 \nQ 55.609375 28.21875 55.609375 21.1875 \nQ 55.609375 10.40625 48.1875 4.484375 \nQ 40.765625 -1.421875 27.09375 -1.421875 \nQ 22.515625 -1.421875 17.65625 -0.515625 \nQ 12.796875 0.390625 7.625 2.203125 \nL 7.625 11.71875 \nQ 11.71875 9.328125 16.59375 8.109375 \nQ 21.484375 6.890625 26.8125 6.890625 \nQ 36.078125 6.890625 40.9375 10.546875 \nQ 45.796875 14.203125 45.796875 21.1875 \nQ 45.796875 27.640625 41.28125 31.265625 \nQ 36.765625 34.90625 28.71875 34.90625 \nL 20.21875 34.90625 \nL 20.21875 43.015625 \nL 29.109375 43.015625 \nQ 36.375 43.015625 40.234375 45.921875 \nQ 44.09375 48.828125 44.09375 54.296875 \nQ 44.09375 59.90625 40.109375 62.90625 \nQ 36.140625 65.921875 28.71875 65.921875 \nQ 24.65625 65.921875 20.015625 65.03125 \nQ 15.375 64.15625 9.8125 62.3125 \nL 9.8125 71.09375 \nQ 15.4375 72.65625 20.34375 73.4375 \nQ 25.25 74.21875 29.59375 74.21875 \nQ 40.828125 74.21875 47.359375 69.109375 \nQ 53.90625 64.015625 53.90625 55.328125 \nQ 53.90625 49.265625 50.4375 45.09375 \nQ 46.96875 40.921875 40.578125 39.3125 \nz\n\" id=\"DejaVuSans-51\"/>\n      </defs>\n      <use xlink:href=\"#DejaVuSans-51\"/>\n     </g>\n    </g>\n   </g>\n   <g id=\"text_11\">\n    <g clip-path=\"url(#p615fd25c72)\">\n     <!-- ${q41}_{0}$ -->\n     <g transform=\"translate(35.493172 48.011777)scale(0.1625 -0.1625)\">\n      <defs>\n       <path d=\"M 41.703125 8.203125 \nQ 38.09375 3.46875 33.171875 1.015625 \nQ 28.265625 -1.421875 22.3125 -1.421875 \nQ 14.015625 -1.421875 9.296875 4.171875 \nQ 4.59375 9.765625 4.59375 19.578125 \nQ 4.59375 27.484375 7.5 34.859375 \nQ 10.40625 42.234375 15.828125 48.09375 \nQ 19.34375 51.90625 23.90625 53.953125 \nQ 28.46875 56 33.5 56 \nQ 39.546875 56 43.453125 53.609375 \nQ 47.359375 51.21875 49.125 46.390625 \nL 50.6875 54.59375 \nL 59.71875 54.59375 \nL 45.125 -20.609375 \nL 36.078125 -20.609375 \nz\nM 13.921875 20.90625 \nQ 13.921875 13.671875 16.9375 9.890625 \nQ 19.96875 6.109375 25.6875 6.109375 \nQ 34.1875 6.109375 40.1875 14.234375 \nQ 46.1875 22.359375 46.1875 33.984375 \nQ 46.1875 41.015625 43.078125 44.75 \nQ 39.984375 48.484375 34.1875 48.484375 \nQ 29.9375 48.484375 26.3125 46.5 \nQ 22.703125 44.53125 20.015625 40.71875 \nQ 17.1875 36.71875 15.546875 31.34375 \nQ 13.921875 25.984375 13.921875 20.90625 \nz\n\" id=\"DejaVuSans-Oblique-113\"/>\n       <path d=\"M 37.796875 64.3125 \nL 12.890625 25.390625 \nL 37.796875 25.390625 \nz\nM 35.203125 72.90625 \nL 47.609375 72.90625 \nL 47.609375 25.390625 \nL 58.015625 25.390625 \nL 58.015625 17.1875 \nL 47.609375 17.1875 \nL 47.609375 0 \nL 37.796875 0 \nL 37.796875 17.1875 \nL 4.890625 17.1875 \nL 4.890625 26.703125 \nz\n\" id=\"DejaVuSans-52\"/>\n      </defs>\n      <use transform=\"translate(0 0.09375)\" xlink:href=\"#DejaVuSans-Oblique-113\"/>\n      <use transform=\"translate(63.476562 0.09375)\" xlink:href=\"#DejaVuSans-52\"/>\n      <use transform=\"translate(127.099609 0.09375)\" xlink:href=\"#DejaVuSans-49\"/>\n      <use transform=\"translate(191.679688 -16.3125)scale(0.7)\" xlink:href=\"#DejaVuSans-48\"/>\n     </g>\n    </g>\n   </g>\n   <g id=\"text_12\">\n    <g clip-path=\"url(#p615fd25c72)\">\n     <!-- ${q41}_{1}$ -->\n     <g transform=\"translate(35.493172 93.462777)scale(0.1625 -0.1625)\">\n      <use transform=\"translate(0 0.09375)\" xlink:href=\"#DejaVuSans-Oblique-113\"/>\n      <use transform=\"translate(63.476562 0.09375)\" xlink:href=\"#DejaVuSans-52\"/>\n      <use transform=\"translate(127.099609 0.09375)\" xlink:href=\"#DejaVuSans-49\"/>\n      <use transform=\"translate(191.679688 -16.3125)scale(0.7)\" xlink:href=\"#DejaVuSans-49\"/>\n     </g>\n    </g>\n   </g>\n   <g id=\"text_13\">\n    <g clip-path=\"url(#p615fd25c72)\">\n     <!-- ${q41}_{2}$ -->\n     <g transform=\"translate(35.493172 138.913777)scale(0.1625 -0.1625)\">\n      <use transform=\"translate(0 0.09375)\" xlink:href=\"#DejaVuSans-Oblique-113\"/>\n      <use transform=\"translate(63.476562 0.09375)\" xlink:href=\"#DejaVuSans-52\"/>\n      <use transform=\"translate(127.099609 0.09375)\" xlink:href=\"#DejaVuSans-49\"/>\n      <use transform=\"translate(191.679688 -16.3125)scale(0.7)\" xlink:href=\"#DejaVuSans-50\"/>\n     </g>\n    </g>\n   </g>\n   <g id=\"text_14\">\n    <g clip-path=\"url(#p615fd25c72)\">\n     <!-- ${q41}_{3}$ -->\n     <g transform=\"translate(35.493172 184.364777)scale(0.1625 -0.1625)\">\n      <use transform=\"translate(0 0.09375)\" xlink:href=\"#DejaVuSans-Oblique-113\"/>\n      <use transform=\"translate(63.476562 0.09375)\" xlink:href=\"#DejaVuSans-52\"/>\n      <use transform=\"translate(127.099609 0.09375)\" xlink:href=\"#DejaVuSans-49\"/>\n      <use transform=\"translate(191.679688 -16.3125)scale(0.7)\" xlink:href=\"#DejaVuSans-51\"/>\n     </g>\n    </g>\n   </g>\n   <g id=\"text_15\">\n    <g clip-path=\"url(#p615fd25c72)\">\n     <!-- 4 -->\n     <g transform=\"translate(87.965972 218.656825)scale(0.104 -0.104)\">\n      <use xlink:href=\"#DejaVuSans-52\"/>\n     </g>\n    </g>\n   </g>\n   <g id=\"text_16\">\n    <g clip-path=\"url(#p615fd25c72)\">\n     <!-- c6 -->\n     <g transform=\"translate(55.056649 229.848784)scale(0.1625 -0.1625)\">\n      <defs>\n       <path d=\"M 48.78125 52.59375 \nL 48.78125 44.1875 \nQ 44.96875 46.296875 41.140625 47.34375 \nQ 37.3125 48.390625 33.40625 48.390625 \nQ 24.65625 48.390625 19.8125 42.84375 \nQ 14.984375 37.3125 14.984375 27.296875 \nQ 14.984375 17.28125 19.8125 11.734375 \nQ 24.65625 6.203125 33.40625 6.203125 \nQ 37.3125 6.203125 41.140625 7.25 \nQ 44.96875 8.296875 48.78125 10.40625 \nL 48.78125 2.09375 \nQ 45.015625 0.34375 40.984375 -0.53125 \nQ 36.96875 -1.421875 32.421875 -1.421875 \nQ 20.0625 -1.421875 12.78125 6.34375 \nQ 5.515625 14.109375 5.515625 27.296875 \nQ 5.515625 40.671875 12.859375 48.328125 \nQ 20.21875 56 33.015625 56 \nQ 37.15625 56 41.109375 55.140625 \nQ 45.0625 54.296875 48.78125 52.59375 \nz\n\" id=\"DejaVuSans-99\"/>\n       <path d=\"M 33.015625 40.375 \nQ 26.375 40.375 22.484375 35.828125 \nQ 18.609375 31.296875 18.609375 23.390625 \nQ 18.609375 15.53125 22.484375 10.953125 \nQ 26.375 6.390625 33.015625 6.390625 \nQ 39.65625 6.390625 43.53125 10.953125 \nQ 47.40625 15.53125 47.40625 23.390625 \nQ 47.40625 31.296875 43.53125 35.828125 \nQ 39.65625 40.375 33.015625 40.375 \nz\nM 52.59375 71.296875 \nL 52.59375 62.3125 \nQ 48.875 64.0625 45.09375 64.984375 \nQ 41.3125 65.921875 37.59375 65.921875 \nQ 27.828125 65.921875 22.671875 59.328125 \nQ 17.53125 52.734375 16.796875 39.40625 \nQ 19.671875 43.65625 24.015625 45.921875 \nQ 28.375 48.1875 33.59375 48.1875 \nQ 44.578125 48.1875 50.953125 41.515625 \nQ 57.328125 34.859375 57.328125 23.390625 \nQ 57.328125 12.15625 50.6875 5.359375 \nQ 44.046875 -1.421875 33.015625 -1.421875 \nQ 20.359375 -1.421875 13.671875 8.265625 \nQ 6.984375 17.96875 6.984375 36.375 \nQ 6.984375 53.65625 15.1875 63.9375 \nQ 23.390625 74.21875 37.203125 74.21875 \nQ 40.921875 74.21875 44.703125 73.484375 \nQ 48.484375 72.75 52.59375 71.296875 \nz\n\" id=\"DejaVuSans-54\"/>\n      </defs>\n      <use xlink:href=\"#DejaVuSans-99\"/>\n      <use x=\"54.980469\" xlink:href=\"#DejaVuSans-54\"/>\n     </g>\n    </g>\n   </g>\n  </g>\n </g>\n <defs>\n  <clipPath id=\"p615fd25c72\">\n   <rect height=\"245.4354\" width=\"494.370072\" x=\"7.2\" y=\"7.2\"/>\n  </clipPath>\n </defs>\n</svg>\n",
      "image/png": "[encoded data removed]"
     },
     "metadata": {},
     "execution_count": 10
    }
   ],
   "source": [
    "q = QuantumRegister(4) \n",
    "c = ClassicalRegister(4) \n",
    "qc = QuantumCircuit(q, c) \n",
    "qc.h(q[0])\n",
    "qc.h(q[1])\n",
    "qc.cx(q[1],q[3])\n",
    "qc.cx(q[0],q[2])\n",
    "qc.barrier()\n",
    "U(qc,1,0,1) \n",
    "V(qc,1,2,3)\n",
    "qc.measure(0,0)\n",
    "qc.measure(1,1)\n",
    "qc.measure(2,2)\n",
    "qc.measure(3,3)\n",
    "qc.draw(output='mpl')"
   ]
  },
  {
   "cell_type": "code",
   "execution_count": 11,
   "metadata": {},
   "outputs": [
    {
     "output_type": "stream",
     "name": "stdout",
     "text": [
      "Accuracy: 100.0%\n"
     ]
    }
   ],
   "source": [
    "backend = Aer.get_backend('qasm_simulator')\n",
    "results = execute(qc, backend, optimization_level=3, shots=8192).result().get_counts()\n",
    "expected_states = check_result(results, 1, 1)\n",
    "state_accuracy = get_state_accuracy(results,expected_states,8192)\n",
    "print(\"Accuracy: \"+state_accuracy)"
   ]
  },
  {
   "cell_type": "markdown",
   "metadata": {},
   "source": [
    "#### Evidently, the results of the mathematical calculation match those of the circuit and a win rate of 100% is achieved!"
   ]
  },
  {
   "source": [
    "------------------------------------------------------------------------------------------------------------------------------------------------------------------\n",
    "To reproduce these operations for other configurations, it is recommended to use the Unitary simulator - follow this simple guide:\n",
    "\n",
    "1. Install \"pip install git+https://github.com/qiskit-community/qiskit-textbook.git#subdirectory=qiskit-textbook-src\"\n",
    "\n",
    "2.  Create new Cell & Fill:\n",
    "from qiskit_textbook.tools import array_to_latex;\n",
    "result = execute(qc, Aer.get_backend('unitary_simulator')).result().get_unitary(qc);\n",
    "array_to_latex(result, pretext=\"\\\\text{Circuit = }\\n\");\n",
    "------------------------------------------------------------------------------------------------------------------------------------------------------------------"
   ],
   "cell_type": "markdown",
   "metadata": {}
  },
  {
   "cell_type": "markdown",
   "metadata": {},
   "source": [
    "# Circuit Performance on Real Quantum Devices"
   ]
  },
  {
   "source": [
    "#### Thus far all executions of the Quantum circuits were performed on ideal quantum simulators, rather than actual quantum hardware. Real quantum computers have noise, decoherence and other periphery hardware issues, which can reduce the performance and fidelity of the executions. Hence, in order to ascertain the actucal performance and not only the theoretical we will execute our circuit on real quantum computers as well as simulators of real computers that include the above mentioned errors alike. \n",
    "\n",
    "#### We start off with the non-ideal simulators of the real quantum computers, so called FakeDevices. The use of FakeVigo, simualating the quantum Computer Vigo yields the following results."
   ],
   "cell_type": "markdown",
   "metadata": {}
  },
  {
   "cell_type": "code",
   "execution_count": 10,
   "metadata": {},
   "outputs": [
    {
     "output_type": "stream",
     "name": "stdout",
     "text": [
      "95.27587890625%\n"
     ]
    }
   ],
   "source": [
    "job = execute(magicsquare_circuit, FakeVigo(), optimization_level=3, shots=8192) # run the job simulation\n",
    "results = job.result().get_counts()\n",
    "expected_states = check_result(results, alpha, beta)\n",
    "state_accuracy = get_state_accuracy(results,expected_states,8192)\n",
    "print(state_accuracy)"
   ]
  },
  {
   "source": [
    "#### Now in order to evaluate the performance of real devices we select the ibmq_athens computer to benchmark the MPG. Please note that you will have to add your own API token from the IBM Quantum website (https://quantum-computing.ibm.com) so that this cell executes"
   ],
   "cell_type": "markdown",
   "metadata": {}
  },
  {
   "cell_type": "code",
   "execution_count": 53,
   "metadata": {},
   "outputs": [
    {
     "name": "stderr",
     "output_type": "stream",
     "text": [
      "configrc.store_credentials:WARNING:2021-03-15 09:28:25,642: Credentials already present. Set overwrite=True to overwrite.\n"
     ]
    }
   ],
   "source": [
    "IBMQ.save_account('YOUR_API_TOKEN') # retrieve from your IBM-Account: https://quantum-computing.ibm.com"
   ]
  },
  {
   "cell_type": "code",
   "execution_count": 392,
   "metadata": {},
   "outputs": [],
   "source": [
    "# load IBM Quantum Experience account \n",
    "IBMQ.load_account()\n",
    "provider = IBMQ.get_provider('ibm-q') # get provider"
   ]
  },
  {
   "cell_type": "code",
   "execution_count": 393,
   "metadata": {},
   "outputs": [
    {
     "data": {
      "text/plain": [
       "[<IBMQSimulator('ibmq_qasm_simulator') from IBMQ(hub='ibm-q', group='open', project='main')>,\n",
       " <IBMQBackend('ibmqx2') from IBMQ(hub='ibm-q', group='open', project='main')>,\n",
       " <IBMQBackend('ibmq_16_melbourne') from IBMQ(hub='ibm-q', group='open', project='main')>,\n",
       " <IBMQBackend('ibmq_armonk') from IBMQ(hub='ibm-q', group='open', project='main')>,\n",
       " <IBMQBackend('ibmq_athens') from IBMQ(hub='ibm-q', group='open', project='main')>,\n",
       " <IBMQBackend('ibmq_santiago') from IBMQ(hub='ibm-q', group='open', project='main')>,\n",
       " <IBMQBackend('ibmq_lima') from IBMQ(hub='ibm-q', group='open', project='main')>,\n",
       " <IBMQBackend('ibmq_belem') from IBMQ(hub='ibm-q', group='open', project='main')>,\n",
       " <IBMQBackend('ibmq_quito') from IBMQ(hub='ibm-q', group='open', project='main')>,\n",
       " <IBMQSimulator('simulator_statevector') from IBMQ(hub='ibm-q', group='open', project='main')>,\n",
       " <IBMQSimulator('simulator_mps') from IBMQ(hub='ibm-q', group='open', project='main')>,\n",
       " <IBMQSimulator('simulator_extended_stabilizer') from IBMQ(hub='ibm-q', group='open', project='main')>,\n",
       " <IBMQSimulator('simulator_stabilizer') from IBMQ(hub='ibm-q', group='open', project='main')>]"
      ]
     },
     "execution_count": 393,
     "metadata": {},
     "output_type": "execute_result"
    }
   ],
   "source": [
    "provider.backends()"
   ]
  },
  {
   "cell_type": "code",
   "execution_count": 394,
   "metadata": {},
   "outputs": [],
   "source": [
    "backend = provider.get_backend(\"ibmq_athens\")"
   ]
  },
  {
   "cell_type": "code",
   "execution_count": 395,
   "metadata": {},
   "outputs": [],
   "source": [
    "job = execute(magicsquare_circuit, backend,optimization_level=3, shots=8192) # run the job simulation with the highest compilter optimsation\n",
    "results = job.result().get_counts()\n",
    "expected_states = check_result(results, alpha, beta)\n",
    "state_accuracy = get_state_accuracy(results,expected_states,8192)"
   ]
  },
  {
   "cell_type": "code",
   "execution_count": 396,
   "metadata": {},
   "outputs": [
    {
     "data": {
      "text/plain": [
       "'96.69189453125%'"
      ]
     },
     "execution_count": 396,
     "metadata": {},
     "output_type": "execute_result"
    }
   ],
   "source": [
    "state_accuracy"
   ]
  },
  {
   "cell_type": "markdown",
   "metadata": {},
   "source": [
    "#### As shown above, the MPG circuit outperforms the classical circuit by about 7.8% (88.89% vs. 96.69%) on a real, noisy, quantum computer."
   ]
  }
 ],
 "metadata": {
  "kernelspec": {
   "display_name": "Python 3",
   "language": "python",
   "name": "python3"
  },
  "language_info": {
   "codemirror_mode": {
    "name": "ipython",
    "version": 3
   },
   "file_extension": ".py",
   "mimetype": "text/x-python",
   "name": "python",
   "nbconvert_exporter": "python",
   "pygments_lexer": "ipython3",
   "version": "3.8.5-final"
  }
 },
 "nbformat": 4,
 "nbformat_minor": 2
}