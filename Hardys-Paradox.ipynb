{
 "cells": [
  {
   "cell_type": "markdown",
   "metadata": {
    "slideshow": {
     "slide_type": "slide"
    }
   },
   "source": [
    "# Hardy's Paradox\n",
    "\n",
    "\n",
    "Hardy's Paradox nicely illustrates the fundamental difference of Quantum Mechanics and classical physics. In particular, it can be used to discuss the claim made by Einstein, Podolsky and Rosen (\"EPR\") back in 1935. They objected to the uncertainty seen in quantum mechanics, and thought it meant that the theory was incomplete. They thought that a qubit should always know what output it would give for both kinds of measurement, and that it only seems random because some information is hidden from us. As Einstein said: God does not play dice with the universe. \n",
    "\n",
    "The idea and part of the source code for this tutorial was published in a previous version of the [Qiskit Textbook](https://qiskit.org/textbook/), in the (now removed) chapter [The Unique Properties of Qubits](https://github.com/Qiskit/qiskit-textbook/blob/master/content/ch-states/old-unique-properties-qubits.ipynb).\n",
    "\n",
    "This variant of Hardy's Paradox is a relatively simple example for an entangled qubit state that couldn't be reproduced by a few classical bits and a random number generator. It shows that quantum variables aren't just classical variables with some randomness bundled in.\n",
    "\n",
    "(hit space or right arrow to move to next slide)"
   ]
  },
  {
   "cell_type": "markdown",
   "metadata": {
    "slideshow": {
     "slide_type": "slide"
    }
   },
   "source": [
    "## Usage instructions for the user interface\n",
    "\n",
    "1. \"Ctrl -\" and \"Ctrl +\" (or \"command -\", \"command +\") adjust the zoom level to fit the text to the browser window\n",
    "* Use \"space\" and \"shift  space\" to navigate through the slides \n",
    "* \"Shift Enter\" executes the interactive cells (might need to click the cell, first)\n",
    "* Execute the interactive cells on each slide (\"In [1]:\", etc)\n",
    "* In case a cell is not formatted correctly, try to double-click and then \"Shift Enter\" to re-execute\n",
    "* Interactive cells can be modified, if needed\n",
    "* \"X\" at the top left exits the slideshow and enters the jupyter notebook interface"
   ]
  },
  {
   "cell_type": "markdown",
   "metadata": {
    "slideshow": {
     "slide_type": "slide"
    }
   },
   "source": [
    "## Manufacturing Cars\n",
    "\n",
    "Let's assume we build cars.\n",
    "The cars have a color (red or blue) and an engine type (gasoline or diesel).\n",
    "\n",
    "The director of the production plant enures us that the following is always true for the first two cars that leave the plant each morning:\n",
    "\n",
    "1. If we look at the colors of both cars, it never happens that both are red.\n",
    "* If the engine type of one car is diesel, then the other car is red.\n",
    "\n",
    "Let's encode the two cars with two qubits, and the colors by a measurement in the (standard) Z Basis, where 0 relates to red and 1 relates to blue. The engine type is encoded by a measurement in the X Basis, where 0 relates to gasoline and 1 relates to diesel.\n",
    "\n",
    "Or in short: <br>\n",
    "Z color: 0 red, 1 blue <br>\n",
    "X engine type: 0 gasoline, 1: diesel"
   ]
  },
  {
   "cell_type": "markdown",
   "metadata": {
    "slideshow": {
     "slide_type": "slide"
    }
   },
   "source": [
    "We now initialize the quantum circuit and create a specific state of the two qubits. \n",
    "\n",
    "We will show that this state satisfies the two conditions mentioned before. \n",
    "\n",
    "We will then analyze the question if both cars can be diesel."
   ]
  },
  {
   "cell_type": "code",
   "execution_count": 1,
   "metadata": {
    "scrolled": true,
    "slideshow": {
     "slide_type": "fragment"
    }
   },
   "outputs": [],
   "source": [
    "# hit \"shift + Enter\" to execute this cell\n",
    "# loading some basic functions needed for the game\n",
    "\n",
    "from qiskit import *\n",
    "from qiskit.visualization import plot_histogram"
   ]
  },
  {
   "cell_type": "markdown",
   "metadata": {
    "slideshow": {
     "slide_type": "slide"
    }
   },
   "source": [
    "The following circuit creates a specific entangled state of the two qubits."
   ]
  },
  {
   "cell_type": "code",
   "execution_count": 2,
   "metadata": {
    "slideshow": {
     "slide_type": "fragment"
    }
   },
   "outputs": [
    {
     "data": {
      "image/png": "[encoded data removed]",
      "text/plain": [
       "<Figure size 481.6x138.46 with 1 Axes>"
      ]
     },
     "execution_count": 2,
     "metadata": {},
     "output_type": "execute_result"
    }
   ],
   "source": [
    "# hit \"shift + Enter\" to execute this cell\n",
    "qc_hardy = QuantumCircuit(2)\n",
    "qc_hardy.ry(1.911,1)\n",
    "qc_hardy.cx(1,0)\n",
    "qc_hardy.ry(0.785,0)\n",
    "qc_hardy.cx(1,0)\n",
    "qc_hardy.ry(2.356,0)\n",
    "\n",
    "qc_hardy.draw(output='mpl')"
   ]
  },
  {
   "cell_type": "markdown",
   "metadata": {
    "slideshow": {
     "slide_type": "slide"
    }
   },
   "source": [
    "Let's see what happens if we look at the color of both cars, i.e. if we make an Z measurement on each of the qubits. <br>\n",
    "A result of 00 would indicate that both cars are red, which is not allowed by rule #1."
   ]
  },
  {
   "cell_type": "code",
   "execution_count": 3,
   "metadata": {
    "slideshow": {
     "slide_type": "fragment"
    }
   },
   "outputs": [
    {
     "name": "stdout",
     "output_type": "stream",
     "text": [
      "Results for two z (=color) measurements:\n"
     ]
    },
    {
     "data": {
      "image/png": "[encoded data removed]",
      "text/plain": [
       "<Figure size 504x360 with 1 Axes>"
      ]
     },
     "execution_count": 3,
     "metadata": {},
     "output_type": "execute_result"
    }
   ],
   "source": [
    "measurements = QuantumCircuit(2,2)\n",
    "# z measurement on both qubits\n",
    "measurements.measure(0,0)\n",
    "measurements.measure(1,1)\n",
    "qc = qc_hardy + measurements\n",
    "print('Results for two z (=color) measurements:')\n",
    "plot_histogram(execute(qc,Aer.get_backend('qasm_simulator')).result().get_counts())"
   ]
  },
  {
   "cell_type": "markdown",
   "metadata": {
    "slideshow": {
     "slide_type": "fragment"
    }
   },
   "source": [
    "The count of 00 is zero, and so these qubits do indeed satisfy property 1."
   ]
  },
  {
   "cell_type": "markdown",
   "metadata": {
    "slideshow": {
     "slide_type": "slide"
    }
   },
   "source": [
    "Next, let's see the results of an x (engine type) measurement of one and a z (color) measurement of the other.<br>\n",
    "A result of 11 would indicate that car 1 is a diesel and car two is blue, which is not allowed by rule #2."
   ]
  },
  {
   "cell_type": "code",
   "execution_count": 4,
   "metadata": {
    "slideshow": {
     "slide_type": "fragment"
    }
   },
   "outputs": [
    {
     "name": "stdout",
     "output_type": "stream",
     "text": [
      "Results for an x (engine type) measurement on qubit 0 and a z (color) measurement on qubit 1:\n"
     ]
    },
    {
     "data": {
      "image/png": "[encoded data removed]",
      "text/plain": [
       "<Figure size 504x360 with 1 Axes>"
      ]
     },
     "execution_count": 4,
     "metadata": {},
     "output_type": "execute_result"
    }
   ],
   "source": [
    "measurements = QuantumCircuit(2,2)\n",
    "# x measurement on qubit 0\n",
    "measurements.h(0)\n",
    "measurements.measure(0,0)\n",
    "# z measurement on qubit 1\n",
    "measurements.measure(1,1)\n",
    "qc = qc_hardy + measurements\n",
    "print('Results for an x (engine type) measurement on qubit 0 and a z (color) measurement on qubit 1:')\n",
    "plot_histogram(execute(qc,Aer.get_backend('qasm_simulator')).result().get_counts())"
   ]
  },
  {
   "cell_type": "markdown",
   "metadata": {
    "slideshow": {
     "slide_type": "fragment"
    }
   },
   "source": [
    "The count of 11 is zero. "
   ]
  },
  {
   "cell_type": "markdown",
   "metadata": {
    "slideshow": {
     "slide_type": "slide"
    }
   },
   "source": [
    "If we also show that the same is true if we measure the other way round (), we have shown that the cars (qubits) satisfy property #2."
   ]
  },
  {
   "cell_type": "code",
   "execution_count": 5,
   "metadata": {
    "slideshow": {
     "slide_type": "fragment"
    }
   },
   "outputs": [
    {
     "name": "stdout",
     "output_type": "stream",
     "text": [
      "Results for an z (color) measurement on qubit 0 and a x (engien type) measurement on qubit 1:\n"
     ]
    },
    {
     "data": {
      "image/png": "[encoded data removed]",
      "text/plain": [
       "<Figure size 504x360 with 1 Axes>"
      ]
     },
     "execution_count": 5,
     "metadata": {},
     "output_type": "execute_result"
    }
   ],
   "source": [
    "measurements = QuantumCircuit(2,2)\n",
    "# z measurement on qubit 0\n",
    "measurements.measure(0,0)\n",
    "# x measurement on qubit 1\n",
    "measurements.h(1)\n",
    "measurements.measure(1,1)\n",
    "qc = qc_hardy + measurements\n",
    "print('Results for an z (color) measurement on qubit 0 and a x (engien type) measurement on qubit 1:')\n",
    "plot_histogram(execute(qc,Aer.get_backend('qasm_simulator')).result().get_counts())"
   ]
  },
  {
   "cell_type": "markdown",
   "metadata": {
    "slideshow": {
     "slide_type": "fragment"
    }
   },
   "source": [
    "As result 11 never occurs, property #2 also holds true. "
   ]
  },
  {
   "cell_type": "markdown",
   "metadata": {
    "slideshow": {
     "slide_type": "slide"
    }
   },
   "source": [
    "What can we now infer (classically) about the engine types of both cars?\n",
    "\n",
    "Let's first recall the properties we have confirmed:\n",
    "\n",
    "1. If we look at the colors of the cars, it never happens that both are red.\n",
    "* If the engine type of one car is diesel, then the other car is red.\n",
    "\n",
    "Let's assume we measure the engine type for both cars and both would be diesel. Then by applying property #2, we can deduce what the result would have been if we had made color measurements instead: We would have gotten an output of red for both. \n",
    "\n",
    "However, this result is impossible according to property #1. We can therefore conclude that it must be impossible that both cars are diesel."
   ]
  },
  {
   "cell_type": "markdown",
   "metadata": {
    "slideshow": {
     "slide_type": "slide"
    }
   },
   "source": [
    "But now let's do an measurement of the engine type for both cars, i.e. an measurement in the x basis for both qubits."
   ]
  },
  {
   "cell_type": "code",
   "execution_count": 6,
   "metadata": {
    "slideshow": {
     "slide_type": "fragment"
    }
   },
   "outputs": [
    {
     "name": "stdout",
     "output_type": "stream",
     "text": [
      "Results for two x (engine type) measurement on both qubits:\n"
     ]
    },
    {
     "data": {
      "image/png": "[encoded data removed]",
      "text/plain": [
       "<Figure size 504x360 with 1 Axes>"
      ]
     },
     "execution_count": 6,
     "metadata": {},
     "output_type": "execute_result"
    }
   ],
   "source": [
    "measurements = QuantumCircuit(2,2)\n",
    "measurements.h(0)\n",
    "measurements.measure(0,0)\n",
    "measurements.h(1)\n",
    "measurements.measure(1,1)\n",
    "qc = qc_hardy + measurements\n",
    "print('Results for two x (engine type) measurement on both qubits:')\n",
    "plot_histogram(execute(qc,Aer.get_backend('qasm_simulator')).result().get_counts())"
   ]
  },
  {
   "cell_type": "markdown",
   "metadata": {
    "slideshow": {
     "slide_type": "fragment"
    }
   },
   "source": [
    "The result is surprising, because in a few cases we actually measured 11, which encodes the \"impossible case\" that both cars are diesel.\n",
    "\n",
    "We reasoned that, given properties 1 and 2, it would be impossible to get the output 11 if we measure engine type for both cars. From the results above, we see that our reasoning was not correct: one in every dozen results will have this 'impossible' result.\n",
    "\n",
    "How can we explain this?"
   ]
  },
  {
   "cell_type": "markdown",
   "metadata": {
    "slideshow": {
     "slide_type": "slide"
    }
   },
   "source": [
    "## Backgound on Hardy's Paradox\n",
    "\n",
    "\n",
    "In their famous paper in 1935, EPR essentially claimed that qubits can indeed be described by some form of classical variable. They didn’t know how to do it, but they were sure it could be done. Then quantum mechanics could be replaced by a much nicer and more sensible theory.\n",
    "\n",
    "It took until 1964 to show that they were wrong. J. S. Bell proved that quantum variables behaved in a way that was fundamentally unique. Since then, many new ways have been found to prove this, and extensive experiments have been done to show that this is exactly the way the universe works. We'll now consider a simple demonstration, using a variant of Hardy’s paradox."
   ]
  },
  {
   "cell_type": "markdown",
   "metadata": {
    "slideshow": {
     "slide_type": "slide"
    }
   },
   "source": [
    "## What went wrong?\n",
    "\n",
    "Our mistake was in the following piece of reasoning.\n",
    "\n",
    "* By applying property 2 we can deduce what the result would have been if we had made z measurements instead\n",
    "\n",
    "We used our knowledge of the x (color) outputs to work out what the z (engine type) outputs were. Once we’d done that, we assumed that we were certain about the value of both. \n",
    "\n",
    "Our logic would be completely valid if we weren’t reasoning about quantum objects.\n",
    "But as D.Mermin concludes at the end of his excellent book \"...\", for quantum objects you have to accept \"what didn't happen, didn't happen\", i.e. we cannot make an assumptions about a measurement that wasn't done.\n",
    "\n",
    "This is (part of) what makes quantum computers able to outperform classical computers. It leads to effects that allow programs made with quantum variables to solve problems in ways that those with normal variables cannot. But just because qubits don’t follow the same logic as normal computers, it doesn’t mean they defy logic entirely. They obey the definite rules laid out by quantum mechanics."
   ]
  },
  {
   "cell_type": "code",
   "execution_count": null,
   "metadata": {
    "slideshow": {
     "slide_type": "skip"
    }
   },
   "outputs": [],
   "source": [
    "import qiskit\n",
    "qiskit.__qiskit_version__"
   ]
  },
  {
   "cell_type": "markdown",
   "metadata": {
    "slideshow": {
     "slide_type": "skip"
    }
   },
   "source": [
    "## BACKUP / OLD"
   ]
  },
  {
   "cell_type": "markdown",
   "metadata": {
    "slideshow": {
     "slide_type": "skip"
    }
   },
   "source": [
    "Hadamard-Gate maps $\\;|0\\rangle\\;$ to $\\;\\frac{|0\\rangle + |1\\rangle}{\\sqrt{2}}\\;\\;$  and   $\\;\\;|1\\rangle\\;$ to $\\;\\frac{|0\\rangle - |1\\rangle}{\\sqrt{2}}$."
   ]
  },
  {
   "cell_type": "markdown",
   "metadata": {
    "slideshow": {
     "slide_type": "skip"
    }
   },
   "source": [
    "If we can show that \n",
    "$$ H(\\; id( H(|0\\rangle) ) \\;) = |0\\rangle\\, $$\n",
    "and \n",
    "$$ H(\\;\\, X( H(|0\\rangle) ) \\;)  = |0\\rangle, $$  \n",
    "it becomes clear that if A applies an H-Gate in both of her moves, she wins the game - independent of the move of B (X or id).\n",
    "\n",
    "Remember: Heads is encoded by $|0\\rangle$, Tails encoded by $|1\\rangle$. "
   ]
  },
  {
   "cell_type": "markdown",
   "metadata": {
    "slideshow": {
     "slide_type": "skip"
    }
   },
   "source": [
    "The first equation holds because:  \n",
    "\n",
    "\\begin{align*} \n",
    "H(\\; id(\\; H(|0\\rangle) \\;)\\; ) \n",
    "      = &\\;\\; H(\\; H(|0\\rangle)\\; )  \\\\\n",
    "      = &\\;\\; H(\\; \\frac{|0\\rangle + |1\\rangle}{\\sqrt{2}}\\;) \\\\\n",
    "      = &\\;\\; \\frac{1}{\\sqrt{2}}\\;(\\; H(|0\\rangle) + H(|1\\rangle) \\;) \\\\\n",
    "      = &\\;\\; \\frac{1}{\\sqrt{2}}\\;(\\;\\frac{|0\\rangle + |1\\rangle}{\\sqrt{2}} + \\frac{|0\\rangle - |1\\rangle}{\\sqrt{2}}\\;) \\\\\n",
    "      = &\\;\\; \\frac{1}{{2}}\\; (\\;|0\\rangle + |1\\rangle + |0\\rangle - |1\\rangle\\; )\\\\\n",
    "      = &\\;\\; |0\\rangle\n",
    "\\end{align*}"
   ]
  },
  {
   "cell_type": "markdown",
   "metadata": {
    "slideshow": {
     "slide_type": "skip"
    }
   },
   "source": [
    "In case B choses to use an X-Gate instead of id, the following identity\n",
    "\n",
    "$$ X(\\; H(|0\\rangle) \\;) = X\\; (\\;\\frac{|0\\rangle + |1\\rangle}{\\sqrt{2}}\\; ) = \\frac{|1\\rangle + |0\\rangle}{\\sqrt{2}} = H(|0\\rangle) $$\n",
    "\n",
    "can be used to show that the final state is $ |0\\rangle$:\n",
    "\n",
    "$$ H(\\; X( H(|0\\rangle) ) \\;) = H(\\; H(|0\\rangle)\\; ) = |0\\rangle $$\n",
    "\n",
    "[These charts](https://github.com/JanLahmann/Fun-with-Quantum/raw/master/QuantumTheory-for-QuantumCoinGame.pdf) explain a bit more of the quantum theory and formlism required to prove the above identities, in case you are interested."
   ]
  }
 ],
 "metadata": {
  "anaconda-cloud": {},
  "celltoolbar": "Slideshow",
  "kernelspec": {
   "display_name": "Python 3",
   "language": "python",
   "name": "python3"
  },
  "language_info": {
   "codemirror_mode": {
    "name": "ipython",
    "version": 3
   },
   "file_extension": ".py",
   "mimetype": "text/x-python",
   "name": "python",
   "nbconvert_exporter": "python",
   "pygments_lexer": "ipython3",
   "version": "3.7.3"
  },
  "latex_envs": {
   "bibliofile": "biblio.bib",
   "cite_by": "apalike",
   "current_citInitial": 1,
   "eqLabelWithNumbers": true,
   "eqNumInitial": 0
  },
  "livereveal": {
   "autolaunch": true
  },
  "nav_menu": {},
  "toc": {
   "navigate_menu": true,
   "number_sections": true,
   "sideBar": true,
   "threshold": 6,
   "toc_cell": false,
   "toc_section_display": "block",
   "toc_window_display": false
  }
 },
 "nbformat": 4,
 "nbformat_minor": 4
}
