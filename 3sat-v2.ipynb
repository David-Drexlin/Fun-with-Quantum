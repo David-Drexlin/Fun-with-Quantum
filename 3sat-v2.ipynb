{
 "cells": [
  {
   "cell_type": "markdown",
   "metadata": {
    "slideshow": {
     "slide_type": "slide"
    }
   },
   "source": [
    "# Simple Quantum Implementation using Qiskit Aqua for Boolean satisfiability problems\n",
    "\n",
    "\n",
    "\n",
    "This Jupyter notebook demonstrates how easy it is to use quantum algorithms from [Qiskit Aqua](https://qiskit.org/aqua) to solve Boolean satisfiability problems [(SAT)](https://en.wikipedia.org/wiki/Boolean_satisfiability_problem). \n",
    "\n",
    "It is based on the Qiskit tutorial [\n",
    "Using Grover search for boolean satisfiability](https://github.com/JavaFXpert/qiskit4devs-workshop-notebooks/blob/master/grover_search_party.ipynb) by [James Weaver](http://twitter.com/JavaFXpert).\n",
    "\n",
    "Implemented by [Jan-R. Lahmann](http://twitter.com/JanLahmann) using Qiskit, binder and RISE."
   ]
  },
  {
   "cell_type": "code",
   "execution_count": null,
   "metadata": {
    "scrolled": true,
    "slideshow": {
     "slide_type": "slide"
    }
   },
   "outputs": [],
   "source": [
    "# Installing new versions of pip and Qiskit on Binder\n",
    "# This may take some time, \n",
    "# but you can continue to go throught the next charts while the install is running\n",
    "# press \"Shift-Enter\" to execute the interactive code cells\n",
    "# To zoom out/in, press \"Control-Minus\", \"Control-Plus\", \n",
    "#    or on Mac: \"Command-Minus\", \"Command-Plus\" \n",
    "!pip install --upgrade pip\n",
    "!pip uninstall -y qiskit qiskit-aqua\n",
    "!pip install qiskit==0.17.0 qiskit-aqua==0.6.5"
   ]
  },
  {
   "cell_type": "markdown",
   "metadata": {
    "slideshow": {
     "slide_type": "slide"
    }
   },
   "source": [
    "## Boolean Satisfiabilty problems (SAT)\n",
    "\n",
    "The Boolean satisfiability problem [(SAT)](https://en.wikipedia.org/wiki/Boolean_satisfiability_problem) considers a Boolean expression with N boolean variables involving negation (NOT, $\\neg$), conjunction (AND, $\\wedge$) and disjunction (OR, $\\vee$), as in the following (simple) example:  \n",
    "$$ f(x_1, x_2) = (x_1 \\vee x_2) \\wedge (x_1 \\vee \\neg x_2) . $$\n",
    "\n",
    "The problem is to determine whether there is any assignment of values (TRUE, FALSE) to the Boolean variables which makes the formula true. \n",
    "\n",
    "It's something like trying to flip a bunch of switches to find the setting that makes a light bulb turn on.  \n",
    "SAT is of central importance in many areas of computer science, including complexity theory, algorithmics, cryptography, artificial intelligence, circuit design, and automatic theorem proving."
   ]
  },
  {
   "cell_type": "markdown",
   "metadata": {
    "slideshow": {
     "slide_type": "subslide"
    }
   },
   "source": [
    "SAT was the first problem proven to be NP-complete.  \n",
    "This means that all problems in the [complexity class NP](https://en.wikipedia.org/wiki/NP_(complexity)) are at most as difficult to solve as SAT. \n",
    "\n",
    "There is no known classical algorithm that efficiently solves each SAT problem, and it is generally believed that no such algorithm exists.  \n",
    "Whether Boolean satisfiability problems have a classical algorithm that is polynomial in time is equivalent to the [P vs. NP problem](https://en.wikipedia.org/wiki/P_versus_NP_problem).  \n",
    "\n",
    "\n",
    "While [Grover's quantum search algorithm](https://en.wikipedia.org/wiki/Grover's_algorithm) does not provide exponential speed-up to this problem, it may nevertheless provide some speed-up in contrast to classical black-box search strategies.\n",
    "\n"
   ]
  },
  {
   "cell_type": "markdown",
   "metadata": {
    "slideshow": {
     "slide_type": "slide"
    }
   },
   "source": [
    "## Solving 3-SAT using Qiskit Aqua and Grover's search algorithm\n",
    "### Throwing a party while avoiding the drama\n",
    "\n",
    "Imagine you are inviting some friends to a party, some who are couples, and some who are not on speaking terms. \n",
    "\n",
    "Specifically, **Alice** and **Bob** are in a relationship, as are **Carol** and **David**. However, **Alice** and **David** had a bad breakup a while ago and haven't been civil with each other since. \n",
    "\n",
    "Armed with a quantum computer and Qiskit Aqua, how can you leverage Grover's quantum search algorithm to identify friendly combinations of people to invite?\n",
    "\n",
    "The constraints for our party planning problem may be formulated with the following boolean expression:\n",
    "\n",
    "        ((A and B) or (C and D)) and not (A and D)\n"
   ]
  },
  {
   "cell_type": "markdown",
   "metadata": {
    "slideshow": {
     "slide_type": "slide"
    }
   },
   "source": [
    "To apply a quantum algorithm from Qiskit Aqua to this problem, we simply need to import the Qiskit libraries and run the algorithm with the appropriate parameters."
   ]
  },
  {
   "cell_type": "code",
   "execution_count": 1,
   "metadata": {
    "slideshow": {
     "slide_type": "fragment"
    }
   },
   "outputs": [],
   "source": [
    "# Import the necessary functions from Qiskit and Qiskit Aqua\n",
    "from qiskit import BasicAer\n",
    "from qiskit.aqua.algorithms import Grover\n",
    "from qiskit.aqua.components.oracles import LogicalExpressionOracle\n",
    "from qiskit.tools.visualization import plot_histogram"
   ]
  },
  {
   "cell_type": "markdown",
   "metadata": {
    "slideshow": {
     "slide_type": "slide"
    }
   },
   "source": [
    "Let's go ahead and use our expression in a Grover quantum search to find out compatible combinations of people to invite.\n",
    "\n",
    "Note: We'll represent and with \"&\", or with \"|\", not with \"~\" in our expression."
   ]
  },
  {
   "cell_type": "code",
   "execution_count": 2,
   "metadata": {
    "slideshow": {
     "slide_type": "fragment"
    }
   },
   "outputs": [],
   "source": [
    "# Define the formal logical expression corresponding to our \"party problem\"\n",
    "log_expr = '((A & B) | (C & D)) & ~(A & D)' "
   ]
  },
  {
   "cell_type": "markdown",
   "metadata": {
    "slideshow": {
     "slide_type": "slide"
    }
   },
   "source": [
    "Let's run the algorithm on a quantum simulator and plot the result.\n",
    "\n",
    "Each basis state represents our four friends, with the least significant bit representing Alice. If a bit is 1, then the advice is to invite the person that the bit represents. If the bit is 0, then Grover advises not to send an invitation."
   ]
  },
  {
   "cell_type": "code",
   "execution_count": 3,
   "metadata": {
    "slideshow": {
     "slide_type": "fragment"
    }
   },
   "outputs": [
    {
     "data": {
      "image/png": "[encoded data removed]",
      "text/plain": [
       "<Figure size 504x360 with 1 Axes>"
      ]
     },
     "execution_count": 3,
     "metadata": {},
     "output_type": "execute_result"
    }
   ],
   "source": [
    "# Run the algorithm on a simulator, and print a histogram of the result\n",
    "# The logical expression can automatically be transformed into a form suitable for Grover's algorithm\n",
    "backend = BasicAer.get_backend('qasm_simulator')\n",
    "algorithm = Grover(LogicalExpressionOracle(log_expr))\n",
    "result = algorithm.run(backend)\n",
    "plot_histogram(result['measurement'])"
   ]
  },
  {
   "cell_type": "markdown",
   "metadata": {
    "slideshow": {
     "slide_type": "fragment"
    }
   },
   "source": [
    "The result shows that the assignments $0011, 0111, 1100, 1110$ for David-Carol-Bob-Alice are potential solutions to the problem.  \n",
    "Whether or not these are correct solutions to the problem can be verified efficiently, as 3-SAT is in NP.  \n",
    "Note that the variables in the histogram are in reverse order: David-Carol-Bob-Alice instead of Alice-Bob-Carol-David.\n"
   ]
  },
  {
   "cell_type": "markdown",
   "metadata": {
    "slideshow": {
     "slide_type": "slide"
    }
   },
   "source": [
    "### Now it's your turn to play!\n",
    "\n",
    "Create and implement your own scenario that can be modeled as a boolean satisfiability problem using Grover search. Have fun with it, and carry on with your quantum computing journey!"
   ]
  },
  {
   "cell_type": "code",
   "execution_count": null,
   "metadata": {
    "slideshow": {
     "slide_type": "fragment"
    }
   },
   "outputs": [],
   "source": [
    "# Define the formal logical expression corresponding to our \"party problem\"\n",
    "log_expr = '((A & C) | (B & D)) & ~(A & D)'"
   ]
  },
  {
   "cell_type": "code",
   "execution_count": null,
   "metadata": {
    "slideshow": {
     "slide_type": "fragment"
    }
   },
   "outputs": [],
   "source": [
    "# Run the algorithm \n",
    "algorithm = Grover(LogicalExpressionOracle(log_expr))\n",
    "result = algorithm.run(backend)\n",
    "plot_histogram(result['measurement']) # print a histogram of the result"
   ]
  }
 ],
 "metadata": {
  "anaconda-cloud": {},
  "celltoolbar": "Slideshow",
  "kernelspec": {
   "display_name": "Python 3",
   "language": "python",
   "name": "python3"
  },
  "language_info": {
   "codemirror_mode": {
    "name": "ipython",
    "version": 3
   },
   "file_extension": ".py",
   "mimetype": "text/x-python",
   "name": "python",
   "nbconvert_exporter": "python",
   "pygments_lexer": "ipython3",
   "version": "3.7.3"
  },
  "latex_envs": {
   "bibliofile": "biblio.bib",
   "cite_by": "apalike",
   "current_citInitial": 1,
   "eqLabelWithNumbers": true,
   "eqNumInitial": 0
  },
  "livereveal": {
   "autolaunch": true
  },
  "nav_menu": {},
  "toc": {
   "navigate_menu": true,
   "number_sections": true,
   "sideBar": true,
   "threshold": 6,
   "toc_cell": false,
   "toc_section_display": "block",
   "toc_window_display": false
  }
 },
 "nbformat": 4,
 "nbformat_minor": 1
}
